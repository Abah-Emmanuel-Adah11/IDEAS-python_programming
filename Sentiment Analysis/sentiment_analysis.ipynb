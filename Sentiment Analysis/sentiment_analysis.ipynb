{
 "cells": [
  {
   "cell_type": "markdown",
   "id": "67b984be-269a-4782-b043-e762fd4c4962",
   "metadata": {},
   "source": [
    "## Step 1: Install required libraries"
   ]
  },
  {
   "cell_type": "code",
   "execution_count": 2,
   "id": "55c8972c-2537-4420-b1ad-9ddbc8749d40",
   "metadata": {},
   "outputs": [
    {
     "name": "stdout",
     "output_type": "stream",
     "text": [
      "Requirement already satisfied: pandas in c:\\users\\homepc\\appdata\\local\\programs\\python\\python312\\lib\\site-packages (2.2.3)\n",
      "Collecting openpyxl\n",
      "  Downloading openpyxl-3.1.5-py2.py3-none-any.whl.metadata (2.5 kB)\n",
      "Collecting textblob\n",
      "  Downloading textblob-0.19.0-py3-none-any.whl.metadata (4.4 kB)\n",
      "Requirement already satisfied: numpy>=1.26.0 in c:\\users\\homepc\\appdata\\local\\programs\\python\\python312\\lib\\site-packages (from pandas) (1.26.4)\n",
      "Requirement already satisfied: python-dateutil>=2.8.2 in c:\\users\\homepc\\appdata\\local\\programs\\python\\python312\\lib\\site-packages (from pandas) (2.9.0.post0)\n",
      "Requirement already satisfied: pytz>=2020.1 in c:\\users\\homepc\\appdata\\local\\programs\\python\\python312\\lib\\site-packages (from pandas) (2024.2)\n",
      "Requirement already satisfied: tzdata>=2022.7 in c:\\users\\homepc\\appdata\\local\\programs\\python\\python312\\lib\\site-packages (from pandas) (2025.1)\n",
      "Collecting et-xmlfile (from openpyxl)\n",
      "  Downloading et_xmlfile-2.0.0-py3-none-any.whl.metadata (2.7 kB)\n",
      "Requirement already satisfied: nltk>=3.9 in c:\\users\\homepc\\appdata\\local\\programs\\python\\python312\\lib\\site-packages (from textblob) (3.9.1)\n",
      "Requirement already satisfied: click in c:\\users\\homepc\\appdata\\local\\programs\\python\\python312\\lib\\site-packages (from nltk>=3.9->textblob) (8.1.8)\n",
      "Requirement already satisfied: joblib in c:\\users\\homepc\\appdata\\local\\programs\\python\\python312\\lib\\site-packages (from nltk>=3.9->textblob) (1.4.2)\n",
      "Requirement already satisfied: regex>=2021.8.3 in c:\\users\\homepc\\appdata\\local\\programs\\python\\python312\\lib\\site-packages (from nltk>=3.9->textblob) (2024.11.6)\n",
      "Requirement already satisfied: tqdm in c:\\users\\homepc\\appdata\\local\\programs\\python\\python312\\lib\\site-packages (from nltk>=3.9->textblob) (4.67.1)\n",
      "Requirement already satisfied: six>=1.5 in c:\\users\\homepc\\appdata\\local\\programs\\python\\python312\\lib\\site-packages (from python-dateutil>=2.8.2->pandas) (1.17.0)\n",
      "Requirement already satisfied: colorama in c:\\users\\homepc\\appdata\\local\\programs\\python\\python312\\lib\\site-packages (from click->nltk>=3.9->textblob) (0.4.6)\n",
      "Downloading openpyxl-3.1.5-py2.py3-none-any.whl (250 kB)\n",
      "Downloading textblob-0.19.0-py3-none-any.whl (624 kB)\n",
      "   ---------------------------------------- 0.0/624.3 kB ? eta -:--:--\n",
      "   ---------------------------------------- 0.0/624.3 kB ? eta -:--:--\n",
      "   ---------------------------------------- 0.0/624.3 kB ? eta -:--:--\n",
      "   ---------------------------------------- 0.0/624.3 kB ? eta -:--:--\n",
      "   ---------------------------------------- 0.0/624.3 kB ? eta -:--:--\n",
      "   ---------------------------------------- 0.0/624.3 kB ? eta -:--:--\n",
      "   ---------------------------------------- 0.0/624.3 kB ? eta -:--:--\n",
      "   ---------------------------------------- 0.0/624.3 kB ? eta -:--:--\n",
      "   ---------------------------------------- 0.0/624.3 kB ? eta -:--:--\n",
      "   ---------------- ----------------------- 262.1/624.3 kB ? eta -:--:--\n",
      "   ---------------- ----------------------- 262.1/624.3 kB ? eta -:--:--\n",
      "   ---------------- ----------------------- 262.1/624.3 kB ? eta -:--:--\n",
      "   ---------------- ----------------------- 262.1/624.3 kB ? eta -:--:--\n",
      "   ---------------- ----------------------- 262.1/624.3 kB ? eta -:--:--\n",
      "   ---------------- ----------------------- 262.1/624.3 kB ? eta -:--:--\n",
      "   ------------------------------- ------ 524.3/624.3 kB 197.4 kB/s eta 0:00:01\n",
      "   -------------------------------------- 624.3/624.3 kB 212.6 kB/s eta 0:00:00\n",
      "Downloading et_xmlfile-2.0.0-py3-none-any.whl (18 kB)\n",
      "Installing collected packages: et-xmlfile, openpyxl, textblob\n",
      "\n",
      "   ------------- -------------------------- 1/3 [openpyxl]\n",
      "   ------------- -------------------------- 1/3 [openpyxl]\n",
      "   ------------- -------------------------- 1/3 [openpyxl]\n",
      "   ------------- -------------------------- 1/3 [openpyxl]\n",
      "   ------------- -------------------------- 1/3 [openpyxl]\n",
      "   ------------- -------------------------- 1/3 [openpyxl]\n",
      "   ------------- -------------------------- 1/3 [openpyxl]\n",
      "   ------------- -------------------------- 1/3 [openpyxl]\n",
      "   ------------- -------------------------- 1/3 [openpyxl]\n",
      "   ------------- -------------------------- 1/3 [openpyxl]\n",
      "   ------------- -------------------------- 1/3 [openpyxl]\n",
      "   ------------- -------------------------- 1/3 [openpyxl]\n",
      "   ------------- -------------------------- 1/3 [openpyxl]\n",
      "   ------------- -------------------------- 1/3 [openpyxl]\n",
      "   ------------- -------------------------- 1/3 [openpyxl]\n",
      "   ------------- -------------------------- 1/3 [openpyxl]\n",
      "   ------------- -------------------------- 1/3 [openpyxl]\n",
      "   ------------- -------------------------- 1/3 [openpyxl]\n",
      "   ------------- -------------------------- 1/3 [openpyxl]\n",
      "   -------------------------- ------------- 2/3 [textblob]\n",
      "   -------------------------- ------------- 2/3 [textblob]\n",
      "   -------------------------- ------------- 2/3 [textblob]\n",
      "   ---------------------------------------- 3/3 [textblob]\n",
      "\n",
      "Successfully installed et-xmlfile-2.0.0 openpyxl-3.1.5 textblob-0.19.0\n",
      "Note: you may need to restart the kernel to use updated packages.\n"
     ]
    }
   ],
   "source": [
    "pip install openpyxl textblob"
   ]
  },
  {
   "cell_type": "markdown",
   "id": "242e4ff8-c276-452f-baf9-fc43115214e6",
   "metadata": {},
   "source": [
    "#### Alternative python package, for VADER:"
   ]
  },
  {
   "cell_type": "code",
   "execution_count": 6,
   "id": "5a6b9206-04a6-4d01-8984-1a9242841462",
   "metadata": {},
   "outputs": [
    {
     "name": "stdout",
     "output_type": "stream",
     "text": [
      "Collecting vaderSentiment\n",
      "  Downloading vaderSentiment-3.3.2-py2.py3-none-any.whl.metadata (572 bytes)\n",
      "Requirement already satisfied: requests in c:\\users\\homepc\\appdata\\local\\programs\\python\\python312\\lib\\site-packages (from vaderSentiment) (2.32.3)\n",
      "Requirement already satisfied: charset-normalizer<4,>=2 in c:\\users\\homepc\\appdata\\local\\programs\\python\\python312\\lib\\site-packages (from requests->vaderSentiment) (3.4.1)\n",
      "Requirement already satisfied: idna<4,>=2.5 in c:\\users\\homepc\\appdata\\local\\programs\\python\\python312\\lib\\site-packages (from requests->vaderSentiment) (3.10)\n",
      "Requirement already satisfied: urllib3<3,>=1.21.1 in c:\\users\\homepc\\appdata\\local\\programs\\python\\python312\\lib\\site-packages (from requests->vaderSentiment) (2.3.0)\n",
      "Requirement already satisfied: certifi>=2017.4.17 in c:\\users\\homepc\\appdata\\local\\programs\\python\\python312\\lib\\site-packages (from requests->vaderSentiment) (2024.12.14)\n",
      "Downloading vaderSentiment-3.3.2-py2.py3-none-any.whl (125 kB)\n",
      "Installing collected packages: vaderSentiment\n",
      "Successfully installed vaderSentiment-3.3.2\n",
      "Note: you may need to restart the kernel to use updated packages.\n"
     ]
    }
   ],
   "source": [
    "pip install vaderSentiment"
   ]
  },
  {
   "cell_type": "markdown",
   "id": "6952b38b-eb70-4bfc-8d4b-4b66ac5d4462",
   "metadata": {},
   "source": [
    "## Step 2: Import Libraries and Load Data"
   ]
  },
  {
   "cell_type": "code",
   "execution_count": 11,
   "id": "a902b7e4-1122-4534-8870-31cfcd9fcdac",
   "metadata": {},
   "outputs": [
    {
     "data": {
      "text/html": [
       "<div>\n",
       "<style scoped>\n",
       "    .dataframe tbody tr th:only-of-type {\n",
       "        vertical-align: middle;\n",
       "    }\n",
       "\n",
       "    .dataframe tbody tr th {\n",
       "        vertical-align: top;\n",
       "    }\n",
       "\n",
       "    .dataframe thead th {\n",
       "        text-align: right;\n",
       "    }\n",
       "</style>\n",
       "<table border=\"1\" class=\"dataframe\">\n",
       "  <thead>\n",
       "    <tr style=\"text-align: right;\">\n",
       "      <th></th>\n",
       "      <th>Text</th>\n",
       "      <th>Cleaned_Text</th>\n",
       "      <th>Category</th>\n",
       "      <th>Source</th>\n",
       "    </tr>\n",
       "  </thead>\n",
       "  <tbody>\n",
       "    <tr>\n",
       "      <th>0</th>\n",
       "      <td>Paris Saint-Germain clinched a place in the Ch...</td>\n",
       "      <td>paris saintgermain clinched a place champions ...</td>\n",
       "      <td>Sports</td>\n",
       "      <td>https://www.vanguardngr.com/2025/05/psg-beat-a...</td>\n",
       "    </tr>\n",
       "    <tr>\n",
       "      <th>1</th>\n",
       "      <td>Ruiz crashed in a shot from the edge of the ar...</td>\n",
       "      <td>ruiz crashed shot edge area 27th minute parc d...</td>\n",
       "      <td>Sports</td>\n",
       "      <td>https://www.vanguardngr.com/2025/05/psg-beat-a...</td>\n",
       "    </tr>\n",
       "    <tr>\n",
       "      <th>2</th>\n",
       "      <td>Already leading in the tie after Ousmane Dembe...</td>\n",
       "      <td>already leading tie ousmane dembeles goal last...</td>\n",
       "      <td>Sports</td>\n",
       "      <td>https://www.vanguardngr.com/2025/05/psg-beat-a...</td>\n",
       "    </tr>\n",
       "    <tr>\n",
       "      <th>3</th>\n",
       "      <td>However, Hakimi put the tie beyond Arsenal whe...</td>\n",
       "      <td>however hakimi put tie beyond arsenal scored 7...</td>\n",
       "      <td>Sports</td>\n",
       "      <td>https://www.vanguardngr.com/2025/05/psg-beat-a...</td>\n",
       "    </tr>\n",
       "    <tr>\n",
       "      <th>4</th>\n",
       "      <td>PSG advance to a showdown in Munich on May 31 ...</td>\n",
       "      <td>psg advance showdown munich may 31 inter milan...</td>\n",
       "      <td>Sports</td>\n",
       "      <td>https://www.vanguardngr.com/2025/05/psg-beat-a...</td>\n",
       "    </tr>\n",
       "  </tbody>\n",
       "</table>\n",
       "</div>"
      ],
      "text/plain": [
       "                                                Text  \\\n",
       "0  Paris Saint-Germain clinched a place in the Ch...   \n",
       "1  Ruiz crashed in a shot from the edge of the ar...   \n",
       "2  Already leading in the tie after Ousmane Dembe...   \n",
       "3  However, Hakimi put the tie beyond Arsenal whe...   \n",
       "4  PSG advance to a showdown in Munich on May 31 ...   \n",
       "\n",
       "                                        Cleaned_Text Category  \\\n",
       "0  paris saintgermain clinched a place champions ...   Sports   \n",
       "1  ruiz crashed shot edge area 27th minute parc d...   Sports   \n",
       "2  already leading tie ousmane dembeles goal last...   Sports   \n",
       "3  however hakimi put tie beyond arsenal scored 7...   Sports   \n",
       "4  psg advance showdown munich may 31 inter milan...   Sports   \n",
       "\n",
       "                                              Source  \n",
       "0  https://www.vanguardngr.com/2025/05/psg-beat-a...  \n",
       "1  https://www.vanguardngr.com/2025/05/psg-beat-a...  \n",
       "2  https://www.vanguardngr.com/2025/05/psg-beat-a...  \n",
       "3  https://www.vanguardngr.com/2025/05/psg-beat-a...  \n",
       "4  https://www.vanguardngr.com/2025/05/psg-beat-a...  "
      ]
     },
     "execution_count": 11,
     "metadata": {},
     "output_type": "execute_result"
    }
   ],
   "source": [
    "import pandas as pd\n",
    "from textblob import TextBlob\n",
    "\n",
    "# Load CSV\n",
    "df = pd.read_csv('Web_Scrapping_Task.csv')\n",
    "df.head()"
   ]
  },
  {
   "cell_type": "markdown",
   "id": "e696d871-da93-4f50-b324-74c259400191",
   "metadata": {},
   "source": [
    "## Step 3: Define a Function to Get Sentiment\n",
    "**We’ll use TextBlob to get the polarity score and then procceed to label it**"
   ]
  },
  {
   "cell_type": "code",
   "execution_count": 12,
   "id": "300abcdd-012c-4398-b3f1-a7742cad5d0a",
   "metadata": {},
   "outputs": [],
   "source": [
    "def get_sentiment(text):\n",
    "    polarity = TextBlob(text).sentiment.polarity\n",
    "    if polarity > 0:\n",
    "        return 'Positive'\n",
    "    elif polarity < 0:\n",
    "        return 'Negative'\n",
    "    else:\n",
    "        return 'Neutral'"
   ]
  },
  {
   "cell_type": "markdown",
   "id": "966ad2ca-39db-4789-9644-a5b8f325612e",
   "metadata": {},
   "source": [
    "## Step 4: Applying Sentiment Analysis\n",
    "**The forgoing line of code apply sentiment analysis to the column \"cleaned_text\" and also create a new column \"Sentiment\" to store the outcome of the analysis**"
   ]
  },
  {
   "cell_type": "code",
   "execution_count": 15,
   "id": "97903f95-28ec-42cc-8498-4eff6d3e9efb",
   "metadata": {},
   "outputs": [
    {
     "data": {
      "text/html": [
       "<div>\n",
       "<style scoped>\n",
       "    .dataframe tbody tr th:only-of-type {\n",
       "        vertical-align: middle;\n",
       "    }\n",
       "\n",
       "    .dataframe tbody tr th {\n",
       "        vertical-align: top;\n",
       "    }\n",
       "\n",
       "    .dataframe thead th {\n",
       "        text-align: right;\n",
       "    }\n",
       "</style>\n",
       "<table border=\"1\" class=\"dataframe\">\n",
       "  <thead>\n",
       "    <tr style=\"text-align: right;\">\n",
       "      <th></th>\n",
       "      <th>Text</th>\n",
       "      <th>Cleaned_Text</th>\n",
       "      <th>Category</th>\n",
       "      <th>Source</th>\n",
       "      <th>Sentiment</th>\n",
       "    </tr>\n",
       "  </thead>\n",
       "  <tbody>\n",
       "    <tr>\n",
       "      <th>0</th>\n",
       "      <td>Paris Saint-Germain clinched a place in the Ch...</td>\n",
       "      <td>paris saintgermain clinched a place champions ...</td>\n",
       "      <td>Sports</td>\n",
       "      <td>https://www.vanguardngr.com/2025/05/psg-beat-a...</td>\n",
       "      <td>Positive</td>\n",
       "    </tr>\n",
       "    <tr>\n",
       "      <th>1</th>\n",
       "      <td>Ruiz crashed in a shot from the edge of the ar...</td>\n",
       "      <td>ruiz crashed shot edge area 27th minute parc d...</td>\n",
       "      <td>Sports</td>\n",
       "      <td>https://www.vanguardngr.com/2025/05/psg-beat-a...</td>\n",
       "      <td>Negative</td>\n",
       "    </tr>\n",
       "    <tr>\n",
       "      <th>2</th>\n",
       "      <td>Already leading in the tie after Ousmane Dembe...</td>\n",
       "      <td>already leading tie ousmane dembeles goal last...</td>\n",
       "      <td>Sports</td>\n",
       "      <td>https://www.vanguardngr.com/2025/05/psg-beat-a...</td>\n",
       "      <td>Positive</td>\n",
       "    </tr>\n",
       "    <tr>\n",
       "      <th>3</th>\n",
       "      <td>However, Hakimi put the tie beyond Arsenal whe...</td>\n",
       "      <td>however hakimi put tie beyond arsenal scored 7...</td>\n",
       "      <td>Sports</td>\n",
       "      <td>https://www.vanguardngr.com/2025/05/psg-beat-a...</td>\n",
       "      <td>Neutral</td>\n",
       "    </tr>\n",
       "    <tr>\n",
       "      <th>4</th>\n",
       "      <td>PSG advance to a showdown in Munich on May 31 ...</td>\n",
       "      <td>psg advance showdown munich may 31 inter milan...</td>\n",
       "      <td>Sports</td>\n",
       "      <td>https://www.vanguardngr.com/2025/05/psg-beat-a...</td>\n",
       "      <td>Neutral</td>\n",
       "    </tr>\n",
       "  </tbody>\n",
       "</table>\n",
       "</div>"
      ],
      "text/plain": [
       "                                                Text  \\\n",
       "0  Paris Saint-Germain clinched a place in the Ch...   \n",
       "1  Ruiz crashed in a shot from the edge of the ar...   \n",
       "2  Already leading in the tie after Ousmane Dembe...   \n",
       "3  However, Hakimi put the tie beyond Arsenal whe...   \n",
       "4  PSG advance to a showdown in Munich on May 31 ...   \n",
       "\n",
       "                                        Cleaned_Text Category  \\\n",
       "0  paris saintgermain clinched a place champions ...   Sports   \n",
       "1  ruiz crashed shot edge area 27th minute parc d...   Sports   \n",
       "2  already leading tie ousmane dembeles goal last...   Sports   \n",
       "3  however hakimi put tie beyond arsenal scored 7...   Sports   \n",
       "4  psg advance showdown munich may 31 inter milan...   Sports   \n",
       "\n",
       "                                              Source Sentiment  \n",
       "0  https://www.vanguardngr.com/2025/05/psg-beat-a...  Positive  \n",
       "1  https://www.vanguardngr.com/2025/05/psg-beat-a...  Negative  \n",
       "2  https://www.vanguardngr.com/2025/05/psg-beat-a...  Positive  \n",
       "3  https://www.vanguardngr.com/2025/05/psg-beat-a...   Neutral  \n",
       "4  https://www.vanguardngr.com/2025/05/psg-beat-a...   Neutral  "
      ]
     },
     "execution_count": 15,
     "metadata": {},
     "output_type": "execute_result"
    }
   ],
   "source": [
    "df['Sentiment'] = df['Cleaned_Text'].apply(get_sentiment)\n",
    "df.head()"
   ]
  },
  {
   "cell_type": "markdown",
   "id": "5c129a3a-6ae9-4069-8a08-12dca849274f",
   "metadata": {},
   "source": [
    "## Step 5: Saving the Result to a new file \n",
    "**The result of the above sentiment analysis will be saved in a new CSV file called \"Sentiment_Analysis_Results.csv\"**"
   ]
  },
  {
   "cell_type": "code",
   "execution_count": 16,
   "id": "3cf4e0d1-dab0-400e-b465-84366d670108",
   "metadata": {},
   "outputs": [],
   "source": [
    "df.to_csv('Sentiment_Analysis_Results.csv', index=False)"
   ]
  },
  {
   "cell_type": "code",
   "execution_count": null,
   "id": "d14c845a-0023-4191-bdb5-ac685af0d01c",
   "metadata": {},
   "outputs": [],
   "source": []
  }
 ],
 "metadata": {
  "kernelspec": {
   "display_name": "Python 3 (ipykernel)",
   "language": "python",
   "name": "python3"
  },
  "language_info": {
   "codemirror_mode": {
    "name": "ipython",
    "version": 3
   },
   "file_extension": ".py",
   "mimetype": "text/x-python",
   "name": "python",
   "nbconvert_exporter": "python",
   "pygments_lexer": "ipython3",
   "version": "3.12.8"
  }
 },
 "nbformat": 4,
 "nbformat_minor": 5
}
