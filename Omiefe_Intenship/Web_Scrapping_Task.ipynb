{
 "cells": [
  {
   "cell_type": "markdown",
   "id": "28ee8814-d74e-43ed-9c97-c80377110de0",
   "metadata": {},
   "source": [
    "### Web scarpping we will be installing a python library called \"Beautiful soup\" and an extention that will be used from the soup library called \"lxml\""
   ]
  },
  {
   "cell_type": "code",
   "execution_count": 13,
   "id": "9da4ecfb-5fb5-40c0-8e18-6e5a23b1ec72",
   "metadata": {},
   "outputs": [
    {
     "name": "stdout",
     "output_type": "stream",
     "text": [
      "This is a class exrcise testing our knowledge on HTML\n",
      "THis is a paragraph\n",
      "This are the list of \n",
      "CAPITAL\n",
      "This are the list of univerties in Nigeria\n",
      "Lorem ipsum dolor sit amet, consectetur adipiscing elit. Fusce venenatis accumsan diam, vulputate\n",
      "                ornare felis vestibulum vitae. Nam efficitur lorem magna, et luctus lacus venenatis a. Morbi molestie\n",
      "                elementum imperdiet. Curabitur sed auctor neque, eu dignissim nisi. Quisque iaculis commodo est vitae\n",
      "                rutrum. Fusce sit amet nunc erat. In non felis sit amet ligula tempus sollicitudin id sit amet sapien.\n",
      "                Nulla sodales tristique risus, finibus posuere magna mollis vel. Suspendisse diam tellus, tincidunt\n",
      "                eleifend mauris ut, posuere luctus nunc. Sed id aliquet sapien, maximus aliquam nulla. Morbi in odio \n",
      "                vel nisi rhoncus pharetra sit amet quis mauris. Nullam sodales porttitor venenatis. Ut gravida, tortor\n",
      "                ut tempor accumsan, odio nunc faucibus dolor, ut convallis est eros at lacus. Aliquam suscipit, arcu a\n",
      "                tincidunt porttitor, nulla lectus faucibus augue, posuere placerat nibh nunc in sem. Donec hendrerit\n",
      "                mollis sem.\n",
      "            \n",
      "Phasellus molestie est sollicitudin placerat congue. In hac habitasse platea dictumst. Fusce vestibulum\n",
      "                nec felis sit amet dictum. Nulla maximus mattis nulla, quis aliquet ante fermentum quis. Etiam nec\n",
      "                pulvinar nunc, in varius enim. Quisque id lectus est. Nullam sollicitudin ex a neque tempor efficitur.\n",
      "                Etiam accumsan sit amet tellus non ullamcorper. Nunc vestibulum vehicula finibus. Nunc convallis \n",
      "                volutpat ligula, id maximus mi tempus id. Nullam eu nulla purus.\n",
      "            \n"
     ]
    }
   ],
   "source": [
    "from bs4 import BeautifulSoup\n",
    "with open('index.html', 'r') as html_file: #you can use the path in the first agument of the open function since the html document is in thesame \n",
    "                                                #as with the file you are working with. \n",
    "    content = html_file.read()\n",
    "\n",
    "    \n",
    "    #To beautify the content of a site\n",
    "    soup = BeautifulSoup(content, 'lxml')\n",
    "    #print(soup)\n",
    "\n",
    "    # To grap specific html tag on your e.g finding all the occurance of the paragragh(p) tag on a site. \n",
    "    tags = soup.find_all('p')\n",
    "    #print(tags)\n",
    "\n",
    "    # To scrape just the text content of a particular selected element in a site.\n",
    "    #(here you iterate through all the contents of the selected element and finally proceed to have them all printed)\n",
    "    for content in tags:\n",
    "        print(content.text)"
   ]
  },
  {
   "cell_type": "code",
   "execution_count": 22,
   "id": "2b002798-9a95-4492-94ec-638b695b22dc",
   "metadata": {},
   "outputs": [
    {
     "name": "stdout",
     "output_type": "stream",
     "text": [
      "<p>Lorem ipsum dolor sit amet, consectetur adipiscing elit. Fusce venenatis accumsan diam, vulputate\n",
      "                ornare felis vestibulum vitae. Nam efficitur lorem magna, et luctus lacus venenatis a. Morbi molestie\n",
      "                elementum imperdiet. Curabitur sed auctor neque, eu dignissim nisi. Quisque iaculis commodo est vitae\n",
      "                rutrum. Fusce sit amet nunc erat. In non felis sit amet ligula tempus sollicitudin id sit amet sapien.\n",
      "                Nulla sodales tristique risus, finibus posuere magna mollis vel. Suspendisse diam tellus, tincidunt\n",
      "                eleifend mauris ut, posuere luctus nunc. Sed id aliquet sapien, maximus aliquam nulla. Morbi in odio \n",
      "                vel nisi rhoncus pharetra sit amet quis mauris. Nullam sodales porttitor venenatis. Ut gravida, tortor\n",
      "                ut tempor accumsan, odio nunc faucibus dolor, ut convallis est eros at lacus. Aliquam suscipit, arcu a\n",
      "                tincidunt porttitor, <br/>nulla lectus faucibus augue, posuere placerat nibh nunc in sem. Donec hendrerit\n",
      "                mollis sem.\n",
      "            </p>\n",
      "Lorem ipsum dolor sit amet, consectetur adipiscing elit. Fusce venenatis accumsan diam, vulputate\n",
      "                ornare felis vestibulum vitae. Nam efficitur lorem magna, et luctus lacus venenatis a. Morbi molestie\n",
      "                elementum imperdiet. Curabitur sed auctor neque, eu dignissim nisi. Quisque iaculis commodo est vitae\n",
      "                rutrum. Fusce sit amet nunc erat. In non felis sit amet ligula tempus sollicitudin id sit amet sapien.\n",
      "                Nulla sodales tristique risus, finibus posuere magna mollis vel. Suspendisse diam tellus, tincidunt\n",
      "                eleifend mauris ut, posuere luctus nunc. Sed id aliquet sapien, maximus aliquam nulla. Morbi in odio \n",
      "                vel nisi rhoncus pharetra sit amet quis mauris. Nullam sodales porttitor venenatis. Ut gravida, tortor\n",
      "                ut tempor accumsan, odio nunc faucibus dolor, ut convallis est eros at lacus. Aliquam suscipit, arcu a\n",
      "                tincidunt porttitor, nulla lectus faucibus augue, posuere placerat nibh nunc in sem. Donec hendrerit\n",
      "                mollis sem.\n",
      "            \n",
      "<p>Phasellus molestie est sollicitudin placerat congue. In hac habitasse platea dictumst. Fusce vestibulum\n",
      "                nec felis sit amet dictum. Nulla maximus mattis nulla, quis aliquet ante fermentum quis. Etiam nec\n",
      "                pulvinar nunc, in varius enim. Quisque id lectus est. Nullam sollicitudin ex a neque tempor efficitur.\n",
      "                Etiam accumsan sit amet tellus non ullamcorper. Nunc vestibulum vehicula finibus. Nunc convallis \n",
      "                volutpat ligula, id maximus mi tempus id. Nullam eu nulla purus.\n",
      "            </p>\n",
      "Phasellus molestie est sollicitudin placerat congue. In hac habitasse platea dictumst. Fusce vestibulum\n",
      "                nec felis sit amet dictum. Nulla maximus mattis nulla, quis aliquet ante fermentum quis. Etiam nec\n",
      "                pulvinar nunc, in varius enim. Quisque id lectus est. Nullam sollicitudin ex a neque tempor efficitur.\n",
      "                Etiam accumsan sit amet tellus non ullamcorper. Nunc vestibulum vehicula finibus. Nunc convallis \n",
      "                volutpat ligula, id maximus mi tempus id. Nullam eu nulla purus.\n",
      "            \n"
     ]
    }
   ],
   "source": [
    "from bs4 import BeautifulSoup\n",
    "with open('index.html', 'r') as html_file:\n",
    "    content = html_file.read()\n",
    "\n",
    "    soup = BeautifulSoup(content, 'lxml')\n",
    "\n",
    "    # sorting out divs using specific class name e.g paragraph \n",
    "    course_cards = soup.find_all('div', class_='paragraph')\n",
    "    \n",
    "    for course in course_cards:\n",
    "        #The \".p\" actually implies that within the divs containing the class paragraph, isolate only the paragaragh element and its content.\n",
    "            print(course.p)\n",
    "        \n",
    "                # You can add the .text method to the targeted element to get just the text content of that element e.g print(course.p.text)"
   ]
  },
  {
   "cell_type": "code",
   "execution_count": 23,
   "id": "b28798c9-6e44-4499-b5aa-21fa0db8d841",
   "metadata": {},
   "outputs": [
    {
     "name": "stdout",
     "output_type": "stream",
     "text": [
      "Lorem ipsum dolor sit amet, consectetur adipiscing elit. Fusce venenatis accumsan diam, vulputate\n",
      "                ornare felis vestibulum vitae. Nam efficitur lorem magna, et luctus lacus venenatis a. Morbi molestie\n",
      "                elementum imperdiet. Curabitur sed auctor neque, eu dignissim nisi. Quisque iaculis commodo est vitae\n",
      "                rutrum. Fusce sit amet nunc erat. In non felis sit amet ligula tempus sollicitudin id sit amet sapien.\n",
      "                Nulla sodales tristique risus, finibus posuere magna mollis vel. Suspendisse diam tellus, tincidunt\n",
      "                eleifend mauris ut, posuere luctus nunc. Sed id aliquet sapien, maximus aliquam nulla. Morbi in odio \n",
      "                vel nisi rhoncus pharetra sit amet quis mauris. Nullam sodales porttitor venenatis. Ut gravida, tortor\n",
      "                ut tempor accumsan, odio nunc faucibus dolor, ut convallis est eros at lacus. Aliquam suscipit, arcu a\n",
      "                tincidunt porttitor, nulla lectus faucibus augue, posuere placerat nibh nunc in sem. Donec hendrerit\n",
      "                mollis sem.\n",
      "             costs sem.\n",
      "Phasellus molestie est sollicitudin placerat congue. In hac habitasse platea dictumst. Fusce vestibulum\n",
      "                nec felis sit amet dictum. Nulla maximus mattis nulla, quis aliquet ante fermentum quis. Etiam nec\n",
      "                pulvinar nunc, in varius enim. Quisque id lectus est. Nullam sollicitudin ex a neque tempor efficitur.\n",
      "                Etiam accumsan sit amet tellus non ullamcorper. Nunc vestibulum vehicula finibus. Nunc convallis \n",
      "                volutpat ligula, id maximus mi tempus id. Nullam eu nulla purus.\n",
      "             costs purus.\n"
     ]
    }
   ],
   "source": [
    "from bs4 import BeautifulSoup\n",
    "with open('index.html', 'r') as html_file:\n",
    "    content = html_file.read()\n",
    "\n",
    "    soup = BeautifulSoup(content, 'lxml')\n",
    "\n",
    "    course_cards = soup.find_all('div', class_='paragraph')\n",
    "    \n",
    "    for course in course_cards:\n",
    "        course_name = course.p.text\n",
    "        course_price = course.text.split()[-1]\n",
    "\n",
    "        print(f'{course_name} costs {course_price}')"
   ]
  },
  {
   "cell_type": "code",
   "execution_count": null,
   "id": "f2106a68-9c61-4f53-bdc0-00b01b87e55c",
   "metadata": {},
   "outputs": [],
   "source": []
  }
 ],
 "metadata": {
  "kernelspec": {
   "display_name": "Python 3 (ipykernel)",
   "language": "python",
   "name": "python3"
  },
  "language_info": {
   "codemirror_mode": {
    "name": "ipython",
    "version": 3
   },
   "file_extension": ".py",
   "mimetype": "text/x-python",
   "name": "python",
   "nbconvert_exporter": "python",
   "pygments_lexer": "ipython3",
   "version": "3.12.8"
  }
 },
 "nbformat": 4,
 "nbformat_minor": 5
}
