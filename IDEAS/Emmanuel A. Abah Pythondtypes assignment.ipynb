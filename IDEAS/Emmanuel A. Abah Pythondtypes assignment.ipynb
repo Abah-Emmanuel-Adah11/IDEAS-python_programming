{
 "cells": [
  {
   "cell_type": "markdown",
   "id": "335bd66a-e7a4-435e-a2de-ffbc8beb61e3",
   "metadata": {},
   "source": [
    "### Practicals Application/Assignment\n",
    "##### Tasks: Build a BMI claculator"
   ]
  },
  {
   "cell_type": "code",
   "execution_count": 4,
   "id": "23d7caf9-7405-4021-91d6-a547de700664",
   "metadata": {},
   "outputs": [
    {
     "name": "stdin",
     "output_type": "stream",
     "text": [
      "What's your weight in Kilogram ? 172\n",
      "What's your height in metres ? 5\n"
     ]
    },
    {
     "name": "stdout",
     "output_type": "stream",
     "text": [
      "Your BMI is  6.88\n",
      "You are Underweight\n"
     ]
    }
   ],
   "source": [
    " # Ask users for their weight and height respectively and convert it to type \"int\" i.e integer for the machine to recognize it.\n",
    "user_weight = int(input(\"What's your weight in Kilogram ?\"))\n",
    "user_height = int(input(\"What's your height in metres ?\"))\n",
    "\n",
    "# get the square of the height recieved as \"user_height\"\n",
    "height_squared = pow(user_height,2)\n",
    "\n",
    "# calculate the BMI by dividing the weight of the user with the squared height. And printing the BMI for the user to see.\n",
    "BMI = user_weight / (height_squared)\n",
    "print(\"Your BMI is \", BMI)\n",
    "\n",
    "# print the BMI based on the following conditions below.\n",
    "if BMI >= 100:\n",
    "    print(\"You are Overweight\")\n",
    "elif BMI >= 50:\n",
    "    print(\"You are Normal\")\n",
    "else:\n",
    "    print(\"You are Underweight\")"
   ]
  },
  {
   "cell_type": "code",
   "execution_count": null,
   "id": "29474abc-e4c6-4716-8452-5747e8d8da6a",
   "metadata": {},
   "outputs": [],
   "source": []
  }
 ],
 "metadata": {
  "kernelspec": {
   "display_name": "Python 3 (ipykernel)",
   "language": "python",
   "name": "python3"
  },
  "language_info": {
   "codemirror_mode": {
    "name": "ipython",
    "version": 3
   },
   "file_extension": ".py",
   "mimetype": "text/x-python",
   "name": "python",
   "nbconvert_exporter": "python",
   "pygments_lexer": "ipython3",
   "version": "3.11.9"
  }
 },
 "nbformat": 4,
 "nbformat_minor": 5
}
