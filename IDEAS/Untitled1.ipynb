{
 "cells": [
  {
   "cell_type": "code",
   "execution_count": 2,
   "id": "a43ca05b-38bb-4e22-b1d9-25e006d5ae52",
   "metadata": {},
   "outputs": [],
   "source": [
    "def student_infor():\n",
    "    print(\"Emmanuel A.\")\n",
    "    print(\"IDEAS/UI/DS/0037\")\n",
    "    return student_infor"
   ]
  }
 ],
 "metadata": {
  "kernelspec": {
   "display_name": "Python 3 (ipykernel)",
   "language": "python",
   "name": "python3"
  },
  "language_info": {
   "codemirror_mode": {
    "name": "ipython",
    "version": 3
   },
   "file_extension": ".py",
   "mimetype": "text/x-python",
   "name": "python",
   "nbconvert_exporter": "python",
   "pygments_lexer": "ipython3",
   "version": "3.12.8"
  }
 },
 "nbformat": 4,
 "nbformat_minor": 5
}
