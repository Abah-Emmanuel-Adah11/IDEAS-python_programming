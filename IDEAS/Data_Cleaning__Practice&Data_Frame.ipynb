{
 "cells": [
  {
   "cell_type": "markdown",
   "id": "8d90727d-22df-43b4-8d27-abd0f96683a6",
   "metadata": {},
   "source": [
    "##### Improting Data into padas and Basic functionality"
   ]
  },
  {
   "cell_type": "code",
   "execution_count": 3,
   "id": "6dad0d68-f4c2-46b7-a407-c9693ff0923f",
   "metadata": {},
   "outputs": [
    {
     "name": "stdout",
     "output_type": "stream",
     "text": [
      "   bedrooms  bathrooms  toilets  parking_space                 title     town  \\\n",
      "0         6          5        5              4       Detached Duplex  Mabushi   \n",
      "1         4          5        5              4     Terraced Duplexes  Katampe   \n",
      "2         4          5        5              4       Detached Duplex    Lekki   \n",
      "3         4          4        5              6       Detached Duplex     Ajah   \n",
      "4         4          4        5              2  Semi Detached Duplex    Lekki   \n",
      "\n",
      "   state        price  \n",
      "0  Abuja  450000000.0  \n",
      "1  Abuja  800000000.0  \n",
      "2  Lagos  120000000.0  \n",
      "3  Lagos   40000000.0  \n",
      "4  Lagos   75000000.0  \n"
     ]
    }
   ],
   "source": [
    "import pandas as pd\n",
    "housing_data_practice = pd.read_csv(\"nigeria_houses_data.csv\")\n",
    "print(housing_data_practice.head())"
   ]
  },
  {
   "cell_type": "code",
   "execution_count": 4,
   "id": "6444a739-c236-47d9-bfa7-d6ffe3e3d691",
   "metadata": {},
   "outputs": [
    {
     "name": "stdout",
     "output_type": "stream",
     "text": [
      "<class 'pandas.core.frame.DataFrame'>\n",
      "RangeIndex: 24326 entries, 0 to 24325\n",
      "Data columns (total 8 columns):\n",
      " #   Column         Non-Null Count  Dtype  \n",
      "---  ------         --------------  -----  \n",
      " 0   bedrooms       24326 non-null  int64  \n",
      " 1   bathrooms      24326 non-null  int64  \n",
      " 2   toilets        24326 non-null  int64  \n",
      " 3   parking_space  24326 non-null  int64  \n",
      " 4   title          24325 non-null  object \n",
      " 5   town           24325 non-null  object \n",
      " 6   state          24325 non-null  object \n",
      " 7   price          24318 non-null  float64\n",
      "dtypes: float64(1), int64(4), object(3)\n",
      "memory usage: 1.5+ MB\n",
      "None\n"
     ]
    }
   ],
   "source": [
    "print(housing_data_practice.info())"
   ]
  },
  {
   "cell_type": "code",
   "execution_count": 5,
   "id": "ec1fca3d-b1bb-4b1b-a12f-b97d124e0352",
   "metadata": {},
   "outputs": [
    {
     "name": "stdout",
     "output_type": "stream",
     "text": [
      "       bedrooms  bathrooms  toilets  parking_space  title   town  state  price\n",
      "0         False      False    False          False  False  False  False  False\n",
      "1         False      False    False          False  False  False  False  False\n",
      "2         False      False    False          False  False  False  False  False\n",
      "3         False      False    False          False  False  False  False  False\n",
      "4         False      False    False          False  False  False  False  False\n",
      "...         ...        ...      ...            ...    ...    ...    ...    ...\n",
      "24321     False      False    False          False  False  False  False  False\n",
      "24322     False      False    False          False  False  False  False  False\n",
      "24323     False      False    False          False  False  False  False  False\n",
      "24324     False      False    False          False  False  False  False  False\n",
      "24325     False      False    False          False  False  False  False  False\n",
      "\n",
      "[24326 rows x 8 columns]\n"
     ]
    }
   ],
   "source": [
    "print(housing_data_practice.isna())"
   ]
  },
  {
   "cell_type": "code",
   "execution_count": 7,
   "id": "849f1236-aeb2-4c47-a7e0-0008a01758d4",
   "metadata": {},
   "outputs": [
    {
     "name": "stdout",
     "output_type": "stream",
     "text": [
      "bedrooms         0\n",
      "bathrooms        0\n",
      "toilets          0\n",
      "parking_space    0\n",
      "title            1\n",
      "town             1\n",
      "state            1\n",
      "price            8\n",
      "dtype: int64\n"
     ]
    }
   ],
   "source": [
    "print(housing_data_practice.isna().sum())"
   ]
  },
  {
   "cell_type": "code",
   "execution_count": 8,
   "id": "fa9e27b1-7575-4548-866f-91648fc574ff",
   "metadata": {},
   "outputs": [
    {
     "name": "stdout",
     "output_type": "stream",
     "text": [
      "       bedrooms  bathrooms  toilets  parking_space                 title  \\\n",
      "10838         4          5        5              2  Semi Detached Duplex   \n",
      "10841         5          5        6              4       Detached Duplex   \n",
      "12730         3          3        4              8     Detached Bungalow   \n",
      "12735         4          4        5              4                   NaN   \n",
      "12740         4          4        5              4       Detached Duplex   \n",
      "12743         6          6        7              8       Detached Duplex   \n",
      "13317         4          5        2              4        Block of Flats   \n",
      "13333         4          4        5              5       Detached Duplex   \n",
      "14015         3          3        4              4        Block of Flats   \n",
      "\n",
      "                    town  state       price  \n",
      "10838               Ajah  Lagos         NaN  \n",
      "10841              Lekki  Lagos         NaN  \n",
      "12730  Lokogoma District  Abuja         NaN  \n",
      "12735                NaN    NaN  90000000.0  \n",
      "12740     Lugbe District  Abuja         NaN  \n",
      "12743    Guzape District  Abuja         NaN  \n",
      "13317   Maitama District  Abuja         NaN  \n",
      "13333              Lekki  Lagos         NaN  \n",
      "14015              Lekki  Lagos         NaN  \n"
     ]
    }
   ],
   "source": [
    "missing_data_rows = housing_data_practice[housing_data_practice.isnull().any(axis=1)]\n",
    "print(missing_data_rows)"
   ]
  },
  {
   "cell_type": "markdown",
   "id": "75aad106-8cb9-461d-a2e1-0b321c69dc70",
   "metadata": {},
   "source": [
    "##### Handling missing data using:\n",
    "1. Discading or deletion method"
   ]
  },
  {
   "cell_type": "code",
   "execution_count": 9,
   "id": "7da14304-5fb8-4f07-977a-9a4644d2177a",
   "metadata": {},
   "outputs": [],
   "source": [
    "housing_data_practice.dropna(inplace=True)"
   ]
  },
  {
   "cell_type": "code",
   "execution_count": 10,
   "id": "fdd0ed96-3023-4d93-b75d-c32440709a9a",
   "metadata": {},
   "outputs": [
    {
     "name": "stdout",
     "output_type": "stream",
     "text": [
      "bedrooms         0\n",
      "bathrooms        0\n",
      "toilets          0\n",
      "parking_space    0\n",
      "title            0\n",
      "town             0\n",
      "state            0\n",
      "price            0\n",
      "dtype: int64\n"
     ]
    }
   ],
   "source": [
    "print(housing_data_practice.isnull().sum())"
   ]
  },
  {
   "cell_type": "markdown",
   "id": "b58b8893-c01b-4c49-bcfb-7bad33bc9c40",
   "metadata": {},
   "source": [
    "2. Imputation or replacement method\n",
    "   "
   ]
  },
  {
   "cell_type": "raw",
   "id": "1743a683-178b-4b84-86cd-faabac2cbe01",
   "metadata": {},
   "source": [
    " The following guidelines will assist you in data imputation\n",
    "    (i) For a symmentric data distribution, use the mean value forreplacement as it represent the central tendency well.\n",
    "    (ii) For a skewed data distribution use the median to reduce the effect of outliers.\n",
    "   "
   ]
  },
  {
   "cell_type": "code",
   "execution_count": 4,
   "id": "c1a282c0-c760-4bdc-8c0f-a4094e8e0666",
   "metadata": {},
   "outputs": [],
   "source": [
    "housing_data_practice = pd.read_csv(\"nigeria_houses_data.csv\")"
   ]
  },
  {
   "cell_type": "code",
   "execution_count": 8,
   "id": "a61c75ff-e729-4738-a058-7e06649cfb36",
   "metadata": {},
   "outputs": [
    {
     "name": "stdout",
     "output_type": "stream",
     "text": [
      "bedrooms         0\n",
      "bathrooms        0\n",
      "toilets          0\n",
      "parking_space    0\n",
      "title            1\n",
      "town             1\n",
      "state            1\n",
      "price            8\n",
      "dtype: int64\n"
     ]
    }
   ],
   "source": [
    "print(housing_data_practice.isnull().sum())"
   ]
  },
  {
   "cell_type": "code",
   "execution_count": 13,
   "id": "00928cb2-8ccd-4812-ac8f-9e54b4a47591",
   "metadata": {},
   "outputs": [
    {
     "data": {
      "image/png": "[encoded data removed]",
      "text/plain": [
       "<Figure size 1800x500 with 3 Axes>"
      ]
     },
     "metadata": {},
     "output_type": "display_data"
    }
   ],
   "source": [
    "import numpy as np\n",
    "import matplotlib.pyplot as plt\n",
    "import seaborn as sns\n",
    "\n",
    "#set the style for the plots\n",
    "sns.set(style=\"whitegrid\")\n",
    "\n",
    "# 1. symmetric Distribution (Normal)\n",
    "symmetric_data = np.random.normal(loc=0, scale=1, size=1000)\n",
    "\n",
    "# 2. Right-skewed Distribution (Exponential)\n",
    "right_skewed_data = np.random.exponential(scale=1, size=1000)\n",
    "\n",
    "# 3. left-skewed Distribution (Negated Exponential)\n",
    "left_skewed_data = -1 * np.random.exponential(scale=1, size=1000)\n",
    "\n",
    "# plotting\n",
    "fig, axes = plt.subplots(1, 3, figsize=(18, 5), sharey=True)\n",
    "\n",
    "# symmetric\n",
    "sns.histplot(symmetric_data, bins=30, kde=True, ax=axes[0], color=\"blue\")\n",
    "axes[0].set_title(\"Symmetric Distribution (Normal)\")\n",
    "axes[0].set_xlabel(\"Value\")\n",
    "\n",
    "# Right-skewed\n",
    "sns.histplot(right_skewed_data, bins=30, kde=True, ax=axes[1], color=\"green\")\n",
    "axes[1].set_title(\"Right-skewed Distribution (Exponential)\")\n",
    "axes[1].set_xlabel(\"Value\")\n",
    "\n",
    "# Left-skewed\n",
    "sns.histplot(left_skewed_data, bins=30, kde=True, ax=axes[2], color=\"red\")\n",
    "axes[2].set_title(\"Left-skewed Distribution (Negative Exponenetia)\")\n",
    "axes[2].set_xlabel(\"Value\")\n",
    "\n",
    "plt.tight_layout()\n",
    "plt.show()"
   ]
  },
  {
   "cell_type": "raw",
   "id": "0f39b28d-7e8c-4dda-a395-51aac4b3f02e",
   "metadata": {},
   "source": [
    "Checking to see where the distribution of our \"price\" which most of the missing values, so as to enable us identify if we are\n",
    "to use the mean or median value to fill up the missing spaces as discussed ealier. "
   ]
  },
  {
   "cell_type": "code",
   "execution_count": 9,
   "id": "39c23f71-b8a0-4bd9-8789-2bfb5adebac5",
   "metadata": {},
   "outputs": [
    {
     "data": {
      "text/plain": [
       "<Axes: >"
      ]
     },
     "execution_count": 9,
     "metadata": {},
     "output_type": "execute_result"
    },
    {
     "data": {
      "image/png": "[encoded data removed]",
      "text/plain": [
       "<Figure size 640x480 with 1 Axes>"
      ]
     },
     "metadata": {},
     "output_type": "display_data"
    }
   ],
   "source": [
    "# chicking for the data distributuion \n",
    "housing_data_practice['price'].hist() # To visualize the distribution in a histogram."
   ]
  },
  {
   "cell_type": "raw",
   "id": "fcbb1a5b-171a-445c-837d-3d88f97ccf4f",
   "metadata": {},
   "source": [
    "As we can see in this case, our data data is highly skewed to the left. Hence, we will be using the median value of the data for\n",
    "replacement."
   ]
  },
  {
   "cell_type": "code",
   "execution_count": 14,
   "id": "40617ff9-5248-4402-88c4-d3826a121123",
   "metadata": {},
   "outputs": [],
   "source": [
    "# filling the missing values with the median of the column\n",
    "housing_data_practice['price'] = housing_data_practice['price'].fillna(housing_data_practice['price'].median())"
   ]
  },
  {
   "cell_type": "code",
   "execution_count": 15,
   "id": "5b1f8bcf-5d4e-4d8a-9938-492986d36d90",
   "metadata": {},
   "outputs": [
    {
     "name": "stdout",
     "output_type": "stream",
     "text": [
      "bedrooms         0\n",
      "bathrooms        0\n",
      "toilets          0\n",
      "parking_space    0\n",
      "title            1\n",
      "town             1\n",
      "state            1\n",
      "price            0\n",
      "dtype: int64\n"
     ]
    }
   ],
   "source": [
    "print(housing_data_practice.isnull().sum())"
   ]
  },
  {
   "cell_type": "raw",
   "id": "fcdc06f2-7e6e-4f3f-a8ab-7013166b36b8",
   "metadata": {},
   "source": [
    "At this point we can drop the columns with the missing cells of just one each since it removal will not have any significant\n",
    "impact on the overall output or result of our model."
   ]
  },
  {
   "cell_type": "code",
   "execution_count": 16,
   "id": "42778dff-efae-485a-8a39-42fc390cf47d",
   "metadata": {},
   "outputs": [],
   "source": [
    "# droping the cells with the missing values\n",
    "housing_data_practice.dropna(inplace=True)"
   ]
  },
  {
   "cell_type": "code",
   "execution_count": 17,
   "id": "e40a666e-9ee7-4711-bb68-9c9b7660bdee",
   "metadata": {},
   "outputs": [
    {
     "name": "stdout",
     "output_type": "stream",
     "text": [
      "bedrooms         0\n",
      "bathrooms        0\n",
      "toilets          0\n",
      "parking_space    0\n",
      "title            0\n",
      "town             0\n",
      "state            0\n",
      "price            0\n",
      "dtype: int64\n"
     ]
    }
   ],
   "source": [
    "print(housing_data_practice.isnull().sum())"
   ]
  },
  {
   "cell_type": "code",
   "execution_count": 21,
   "id": "ce639ca4-2487-4164-9527-376a5a1f51dd",
   "metadata": {},
   "outputs": [],
   "source": [
    "# calculating the 'mean' and 'median' of the price column respectively\n",
    "\n",
    "price_mean = housing_data_practice['price'].mean()\n",
    "price_median = housing_data_practice['price'].median()"
   ]
  },
  {
   "cell_type": "code",
   "execution_count": 22,
   "id": "53319ae2-ce7e-436d-aa25-3451732cce68",
   "metadata": {},
   "outputs": [
    {
     "data": {
      "text/plain": [
       "np.float64(301362957.9157246)"
      ]
     },
     "execution_count": 22,
     "metadata": {},
     "output_type": "execute_result"
    }
   ],
   "source": [
    "price_mean"
   ]
  },
  {
   "cell_type": "code",
   "execution_count": 23,
   "id": "a44d09c2-5fb4-4505-85a3-378789d26bb0",
   "metadata": {},
   "outputs": [
    {
     "data": {
      "text/plain": [
       "np.float64(85000000.0)"
      ]
     },
     "execution_count": 23,
     "metadata": {},
     "output_type": "execute_result"
    }
   ],
   "source": [
    "price_median"
   ]
  },
  {
   "cell_type": "markdown",
   "id": "97f432fd-3837-4de3-9d31-3f08fc61eb79",
   "metadata": {},
   "source": [
    "#### Basic Data Transformation"
   ]
  },
  {
   "cell_type": "raw",
   "id": "35d3f8f8-4b1a-4687-b770-29cd6ab4eb96",
   "metadata": {},
   "source": [
    "Transformation helps improve data consistency and readability. For instance, removing extra whitespaces and capitalizzing\n",
    "or standizing text."
   ]
  },
  {
   "cell_type": "code",
   "execution_count": 6,
   "id": "bb541542-8aec-4911-acf3-9ce478c09e0a",
   "metadata": {},
   "outputs": [
    {
     "name": "stdout",
     "output_type": "stream",
     "text": [
      "       bedrooms  bathrooms  toilets  parking_space                 title  \\\n",
      "0             6          5        5              4       Detached Duplex   \n",
      "1             4          5        5              4     Terraced Duplexes   \n",
      "2             4          5        5              4       Detached Duplex   \n",
      "3             4          4        5              6       Detached Duplex   \n",
      "4             4          4        5              2  Semi Detached Duplex   \n",
      "...         ...        ...      ...            ...                   ...   \n",
      "24321         2          2        2              4        Block Of Flats   \n",
      "24322         4          5        5              4        Block Of Flats   \n",
      "24323         4          5        5              4       Detached Duplex   \n",
      "24324         3          4        4              3        Block Of Flats   \n",
      "24325         4          5        5              4       Detached Duplex   \n",
      "\n",
      "                       town  state        price  \n",
      "0                   Mabushi  Abuja  450000000.0  \n",
      "1                   Katampe  Abuja  800000000.0  \n",
      "2                     Lekki  Lagos  120000000.0  \n",
      "3                      Ajah  Lagos   40000000.0  \n",
      "4                     Lekki  Lagos   75000000.0  \n",
      "...                     ...    ...          ...  \n",
      "24321                Kabusa  Abuja   15000000.0  \n",
      "24322           Ado-Odo/Ota   Ogun   25000000.0  \n",
      "24323                 Lekki  Lagos   68000000.0  \n",
      "24324  Victoria Island (VI)  Lagos   78000000.0  \n",
      "24325                 Lekki  Lagos   65000000.0  \n",
      "\n",
      "[24326 rows x 8 columns]\n"
     ]
    }
   ],
   "source": [
    "# clean \"title\" column: remove extra spaces and capitalize can be done using the follolines of code\n",
    "housing_data_practice['title'] = housing_data_practice['title'].str.strip().str.title()\n",
    "print(housing_data_practice)"
   ]
  },
  {
   "cell_type": "code",
   "execution_count": 8,
   "id": "33150e0b-846f-4e85-a122-0bc249df5cdd",
   "metadata": {},
   "outputs": [
    {
     "name": "stdout",
     "output_type": "stream",
     "text": [
      "         price  price_million\n",
      "0  450000000.0          450.0\n",
      "1  800000000.0          800.0\n",
      "2  120000000.0          120.0\n",
      "3   40000000.0           40.0\n",
      "4   75000000.0           75.0\n"
     ]
    }
   ],
   "source": [
    "#Example Transformation on price Column\n",
    "# Convert prices to millions for readabilty\n",
    "\n",
    "housing_data_practice['price_million'] = housing_data_practice['price'] / 1e6\n",
    "\n",
    "print(housing_data_practice[['price', 'price_million']].head())"
   ]
  },
  {
   "cell_type": "code",
   "execution_count": 9,
   "id": "bc496455-f8f4-4657-9d0c-d5c51964f16a",
   "metadata": {},
   "outputs": [
    {
     "data": {
      "text/html": [
       "<div>\n",
       "<style scoped>\n",
       "    .dataframe tbody tr th:only-of-type {\n",
       "        vertical-align: middle;\n",
       "    }\n",
       "\n",
       "    .dataframe tbody tr th {\n",
       "        vertical-align: top;\n",
       "    }\n",
       "\n",
       "    .dataframe thead th {\n",
       "        text-align: right;\n",
       "    }\n",
       "</style>\n",
       "<table border=\"1\" class=\"dataframe\">\n",
       "  <thead>\n",
       "    <tr style=\"text-align: right;\">\n",
       "      <th></th>\n",
       "      <th>bedrooms</th>\n",
       "      <th>bathrooms</th>\n",
       "      <th>toilets</th>\n",
       "      <th>parking_space</th>\n",
       "      <th>title</th>\n",
       "      <th>town</th>\n",
       "      <th>state</th>\n",
       "      <th>price</th>\n",
       "      <th>price_million</th>\n",
       "    </tr>\n",
       "  </thead>\n",
       "  <tbody>\n",
       "    <tr>\n",
       "      <th>0</th>\n",
       "      <td>6</td>\n",
       "      <td>5</td>\n",
       "      <td>5</td>\n",
       "      <td>4</td>\n",
       "      <td>Detached Duplex</td>\n",
       "      <td>Mabushi</td>\n",
       "      <td>Abuja</td>\n",
       "      <td>450000000.0</td>\n",
       "      <td>450.0</td>\n",
       "    </tr>\n",
       "    <tr>\n",
       "      <th>1</th>\n",
       "      <td>4</td>\n",
       "      <td>5</td>\n",
       "      <td>5</td>\n",
       "      <td>4</td>\n",
       "      <td>Terraced Duplexes</td>\n",
       "      <td>Katampe</td>\n",
       "      <td>Abuja</td>\n",
       "      <td>800000000.0</td>\n",
       "      <td>800.0</td>\n",
       "    </tr>\n",
       "    <tr>\n",
       "      <th>2</th>\n",
       "      <td>4</td>\n",
       "      <td>5</td>\n",
       "      <td>5</td>\n",
       "      <td>4</td>\n",
       "      <td>Detached Duplex</td>\n",
       "      <td>Lekki</td>\n",
       "      <td>Lagos</td>\n",
       "      <td>120000000.0</td>\n",
       "      <td>120.0</td>\n",
       "    </tr>\n",
       "    <tr>\n",
       "      <th>3</th>\n",
       "      <td>4</td>\n",
       "      <td>4</td>\n",
       "      <td>5</td>\n",
       "      <td>6</td>\n",
       "      <td>Detached Duplex</td>\n",
       "      <td>Ajah</td>\n",
       "      <td>Lagos</td>\n",
       "      <td>40000000.0</td>\n",
       "      <td>40.0</td>\n",
       "    </tr>\n",
       "    <tr>\n",
       "      <th>4</th>\n",
       "      <td>4</td>\n",
       "      <td>4</td>\n",
       "      <td>5</td>\n",
       "      <td>2</td>\n",
       "      <td>Semi Detached Duplex</td>\n",
       "      <td>Lekki</td>\n",
       "      <td>Lagos</td>\n",
       "      <td>75000000.0</td>\n",
       "      <td>75.0</td>\n",
       "    </tr>\n",
       "    <tr>\n",
       "      <th>...</th>\n",
       "      <td>...</td>\n",
       "      <td>...</td>\n",
       "      <td>...</td>\n",
       "      <td>...</td>\n",
       "      <td>...</td>\n",
       "      <td>...</td>\n",
       "      <td>...</td>\n",
       "      <td>...</td>\n",
       "      <td>...</td>\n",
       "    </tr>\n",
       "    <tr>\n",
       "      <th>24321</th>\n",
       "      <td>2</td>\n",
       "      <td>2</td>\n",
       "      <td>2</td>\n",
       "      <td>4</td>\n",
       "      <td>Block Of Flats</td>\n",
       "      <td>Kabusa</td>\n",
       "      <td>Abuja</td>\n",
       "      <td>15000000.0</td>\n",
       "      <td>15.0</td>\n",
       "    </tr>\n",
       "    <tr>\n",
       "      <th>24322</th>\n",
       "      <td>4</td>\n",
       "      <td>5</td>\n",
       "      <td>5</td>\n",
       "      <td>4</td>\n",
       "      <td>Block Of Flats</td>\n",
       "      <td>Ado-Odo/Ota</td>\n",
       "      <td>Ogun</td>\n",
       "      <td>25000000.0</td>\n",
       "      <td>25.0</td>\n",
       "    </tr>\n",
       "    <tr>\n",
       "      <th>24323</th>\n",
       "      <td>4</td>\n",
       "      <td>5</td>\n",
       "      <td>5</td>\n",
       "      <td>4</td>\n",
       "      <td>Detached Duplex</td>\n",
       "      <td>Lekki</td>\n",
       "      <td>Lagos</td>\n",
       "      <td>68000000.0</td>\n",
       "      <td>68.0</td>\n",
       "    </tr>\n",
       "    <tr>\n",
       "      <th>24324</th>\n",
       "      <td>3</td>\n",
       "      <td>4</td>\n",
       "      <td>4</td>\n",
       "      <td>3</td>\n",
       "      <td>Block Of Flats</td>\n",
       "      <td>Victoria Island (VI)</td>\n",
       "      <td>Lagos</td>\n",
       "      <td>78000000.0</td>\n",
       "      <td>78.0</td>\n",
       "    </tr>\n",
       "    <tr>\n",
       "      <th>24325</th>\n",
       "      <td>4</td>\n",
       "      <td>5</td>\n",
       "      <td>5</td>\n",
       "      <td>4</td>\n",
       "      <td>Detached Duplex</td>\n",
       "      <td>Lekki</td>\n",
       "      <td>Lagos</td>\n",
       "      <td>65000000.0</td>\n",
       "      <td>65.0</td>\n",
       "    </tr>\n",
       "  </tbody>\n",
       "</table>\n",
       "<p>24326 rows × 9 columns</p>\n",
       "</div>"
      ],
      "text/plain": [
       "       bedrooms  bathrooms  toilets  parking_space                 title  \\\n",
       "0             6          5        5              4       Detached Duplex   \n",
       "1             4          5        5              4     Terraced Duplexes   \n",
       "2             4          5        5              4       Detached Duplex   \n",
       "3             4          4        5              6       Detached Duplex   \n",
       "4             4          4        5              2  Semi Detached Duplex   \n",
       "...         ...        ...      ...            ...                   ...   \n",
       "24321         2          2        2              4        Block Of Flats   \n",
       "24322         4          5        5              4        Block Of Flats   \n",
       "24323         4          5        5              4       Detached Duplex   \n",
       "24324         3          4        4              3        Block Of Flats   \n",
       "24325         4          5        5              4       Detached Duplex   \n",
       "\n",
       "                       town  state        price  price_million  \n",
       "0                   Mabushi  Abuja  450000000.0          450.0  \n",
       "1                   Katampe  Abuja  800000000.0          800.0  \n",
       "2                     Lekki  Lagos  120000000.0          120.0  \n",
       "3                      Ajah  Lagos   40000000.0           40.0  \n",
       "4                     Lekki  Lagos   75000000.0           75.0  \n",
       "...                     ...    ...          ...            ...  \n",
       "24321                Kabusa  Abuja   15000000.0           15.0  \n",
       "24322           Ado-Odo/Ota   Ogun   25000000.0           25.0  \n",
       "24323                 Lekki  Lagos   68000000.0           68.0  \n",
       "24324  Victoria Island (VI)  Lagos   78000000.0           78.0  \n",
       "24325                 Lekki  Lagos   65000000.0           65.0  \n",
       "\n",
       "[24326 rows x 9 columns]"
      ]
     },
     "execution_count": 9,
     "metadata": {},
     "output_type": "execute_result"
    }
   ],
   "source": [
    "# Displaying our table alongside our new column price_million.\n",
    "housing_data_practice"
   ]
  },
  {
   "cell_type": "code",
   "execution_count": 10,
   "id": "adced9bb-b020-436c-96d9-99f7afed5ad2",
   "metadata": {},
   "outputs": [],
   "source": [
    "# Dropping our previous \"price\" column, since we now have a new column \"Price_in_million\"\n",
    "housing_data_practice.drop('price', axis=1, inplace=True)"
   ]
  },
  {
   "cell_type": "code",
   "execution_count": 11,
   "id": "0ae52b41-2bd3-4e55-bb8f-58c295d2b470",
   "metadata": {},
   "outputs": [
    {
     "data": {
      "text/html": [
       "<div>\n",
       "<style scoped>\n",
       "    .dataframe tbody tr th:only-of-type {\n",
       "        vertical-align: middle;\n",
       "    }\n",
       "\n",
       "    .dataframe tbody tr th {\n",
       "        vertical-align: top;\n",
       "    }\n",
       "\n",
       "    .dataframe thead th {\n",
       "        text-align: right;\n",
       "    }\n",
       "</style>\n",
       "<table border=\"1\" class=\"dataframe\">\n",
       "  <thead>\n",
       "    <tr style=\"text-align: right;\">\n",
       "      <th></th>\n",
       "      <th>bedrooms</th>\n",
       "      <th>bathrooms</th>\n",
       "      <th>toilets</th>\n",
       "      <th>parking_space</th>\n",
       "      <th>title</th>\n",
       "      <th>town</th>\n",
       "      <th>state</th>\n",
       "      <th>price_million</th>\n",
       "    </tr>\n",
       "  </thead>\n",
       "  <tbody>\n",
       "    <tr>\n",
       "      <th>0</th>\n",
       "      <td>6</td>\n",
       "      <td>5</td>\n",
       "      <td>5</td>\n",
       "      <td>4</td>\n",
       "      <td>Detached Duplex</td>\n",
       "      <td>Mabushi</td>\n",
       "      <td>Abuja</td>\n",
       "      <td>450.0</td>\n",
       "    </tr>\n",
       "    <tr>\n",
       "      <th>1</th>\n",
       "      <td>4</td>\n",
       "      <td>5</td>\n",
       "      <td>5</td>\n",
       "      <td>4</td>\n",
       "      <td>Terraced Duplexes</td>\n",
       "      <td>Katampe</td>\n",
       "      <td>Abuja</td>\n",
       "      <td>800.0</td>\n",
       "    </tr>\n",
       "    <tr>\n",
       "      <th>2</th>\n",
       "      <td>4</td>\n",
       "      <td>5</td>\n",
       "      <td>5</td>\n",
       "      <td>4</td>\n",
       "      <td>Detached Duplex</td>\n",
       "      <td>Lekki</td>\n",
       "      <td>Lagos</td>\n",
       "      <td>120.0</td>\n",
       "    </tr>\n",
       "    <tr>\n",
       "      <th>3</th>\n",
       "      <td>4</td>\n",
       "      <td>4</td>\n",
       "      <td>5</td>\n",
       "      <td>6</td>\n",
       "      <td>Detached Duplex</td>\n",
       "      <td>Ajah</td>\n",
       "      <td>Lagos</td>\n",
       "      <td>40.0</td>\n",
       "    </tr>\n",
       "    <tr>\n",
       "      <th>4</th>\n",
       "      <td>4</td>\n",
       "      <td>4</td>\n",
       "      <td>5</td>\n",
       "      <td>2</td>\n",
       "      <td>Semi Detached Duplex</td>\n",
       "      <td>Lekki</td>\n",
       "      <td>Lagos</td>\n",
       "      <td>75.0</td>\n",
       "    </tr>\n",
       "    <tr>\n",
       "      <th>...</th>\n",
       "      <td>...</td>\n",
       "      <td>...</td>\n",
       "      <td>...</td>\n",
       "      <td>...</td>\n",
       "      <td>...</td>\n",
       "      <td>...</td>\n",
       "      <td>...</td>\n",
       "      <td>...</td>\n",
       "    </tr>\n",
       "    <tr>\n",
       "      <th>24321</th>\n",
       "      <td>2</td>\n",
       "      <td>2</td>\n",
       "      <td>2</td>\n",
       "      <td>4</td>\n",
       "      <td>Block Of Flats</td>\n",
       "      <td>Kabusa</td>\n",
       "      <td>Abuja</td>\n",
       "      <td>15.0</td>\n",
       "    </tr>\n",
       "    <tr>\n",
       "      <th>24322</th>\n",
       "      <td>4</td>\n",
       "      <td>5</td>\n",
       "      <td>5</td>\n",
       "      <td>4</td>\n",
       "      <td>Block Of Flats</td>\n",
       "      <td>Ado-Odo/Ota</td>\n",
       "      <td>Ogun</td>\n",
       "      <td>25.0</td>\n",
       "    </tr>\n",
       "    <tr>\n",
       "      <th>24323</th>\n",
       "      <td>4</td>\n",
       "      <td>5</td>\n",
       "      <td>5</td>\n",
       "      <td>4</td>\n",
       "      <td>Detached Duplex</td>\n",
       "      <td>Lekki</td>\n",
       "      <td>Lagos</td>\n",
       "      <td>68.0</td>\n",
       "    </tr>\n",
       "    <tr>\n",
       "      <th>24324</th>\n",
       "      <td>3</td>\n",
       "      <td>4</td>\n",
       "      <td>4</td>\n",
       "      <td>3</td>\n",
       "      <td>Block Of Flats</td>\n",
       "      <td>Victoria Island (VI)</td>\n",
       "      <td>Lagos</td>\n",
       "      <td>78.0</td>\n",
       "    </tr>\n",
       "    <tr>\n",
       "      <th>24325</th>\n",
       "      <td>4</td>\n",
       "      <td>5</td>\n",
       "      <td>5</td>\n",
       "      <td>4</td>\n",
       "      <td>Detached Duplex</td>\n",
       "      <td>Lekki</td>\n",
       "      <td>Lagos</td>\n",
       "      <td>65.0</td>\n",
       "    </tr>\n",
       "  </tbody>\n",
       "</table>\n",
       "<p>24326 rows × 8 columns</p>\n",
       "</div>"
      ],
      "text/plain": [
       "       bedrooms  bathrooms  toilets  parking_space                 title  \\\n",
       "0             6          5        5              4       Detached Duplex   \n",
       "1             4          5        5              4     Terraced Duplexes   \n",
       "2             4          5        5              4       Detached Duplex   \n",
       "3             4          4        5              6       Detached Duplex   \n",
       "4             4          4        5              2  Semi Detached Duplex   \n",
       "...         ...        ...      ...            ...                   ...   \n",
       "24321         2          2        2              4        Block Of Flats   \n",
       "24322         4          5        5              4        Block Of Flats   \n",
       "24323         4          5        5              4       Detached Duplex   \n",
       "24324         3          4        4              3        Block Of Flats   \n",
       "24325         4          5        5              4       Detached Duplex   \n",
       "\n",
       "                       town  state  price_million  \n",
       "0                   Mabushi  Abuja          450.0  \n",
       "1                   Katampe  Abuja          800.0  \n",
       "2                     Lekki  Lagos          120.0  \n",
       "3                      Ajah  Lagos           40.0  \n",
       "4                     Lekki  Lagos           75.0  \n",
       "...                     ...    ...            ...  \n",
       "24321                Kabusa  Abuja           15.0  \n",
       "24322           Ado-Odo/Ota   Ogun           25.0  \n",
       "24323                 Lekki  Lagos           68.0  \n",
       "24324  Victoria Island (VI)  Lagos           78.0  \n",
       "24325                 Lekki  Lagos           65.0  \n",
       "\n",
       "[24326 rows x 8 columns]"
      ]
     },
     "execution_count": 11,
     "metadata": {},
     "output_type": "execute_result"
    }
   ],
   "source": [
    "# How our new column look without our previous price column\n",
    "housing_data_practice"
   ]
  },
  {
   "cell_type": "markdown",
   "id": "bc58ae85-69d3-44d2-a86e-7690ba5d255e",
   "metadata": {},
   "source": [
    "#### Creating and Manupulating Data Frame"
   ]
  },
  {
   "cell_type": "markdown",
   "id": "6b3ceeef-f202-4fe9-98b3-5ac7d0f65324",
   "metadata": {},
   "source": [
    "##### 1. Creating DataFrame"
   ]
  },
  {
   "cell_type": "raw",
   "id": "727928ec-3aa5-4443-a6bc-615a9c6ff704",
   "metadata": {},
   "source": [
    "A pandas data frame can be created using python dictionaries, lists or Numpy arrays. this example below was done using\n",
    "Python Dictionary."
   ]
  },
  {
   "cell_type": "code",
   "execution_count": 32,
   "id": "2fb65273-2235-4f2b-a2b0-218084850fd5",
   "metadata": {},
   "outputs": [
    {
     "name": "stdout",
     "output_type": "stream",
     "text": [
      "          Property Type  Bedrooms  Bathrooms  Price (Million Naira)\n",
      "0       Detached Duplex         6          5                    450\n",
      "1       Terraced Duplex         4          5                    800\n",
      "2  Semi-Detached Duplex         4          4                     75\n"
     ]
    }
   ],
   "source": [
    "import pandas as pd\n",
    "\n",
    "# creating a dictionary\n",
    "data_dict = {\n",
    "    'Property Type': ['Detached Duplex','Terraced Duplex','Semi-Detached Duplex'],\n",
    "    'Bedrooms':[6,4,4,],\n",
    "    'Bathrooms': [5,5,4],\n",
    "    'Price (Million Naira)': [450, 800, 75]\n",
    "}\n",
    "# Creating the DataFrame\n",
    "data_frame = pd.DataFrame(data_dict)\n",
    "\n",
    "# Display the DataFrame\n",
    "print(data_frame)"
   ]
  },
  {
   "cell_type": "markdown",
   "id": "a52f493a-94d5-4e65-97b0-1c5d998a7fd6",
   "metadata": {},
   "source": [
    "##### 2. Maniulating Data in DataFrame"
   ]
  },
  {
   "cell_type": "markdown",
   "id": "b3e6888a-6017-4f73-9738-996c027a0c04",
   "metadata": {},
   "source": [
    "###### 2.1 Adding a new column: We can create a new column ('Price(USD)') based on an existing column ('Price(Million Naira)') using the lines of code below:"
   ]
  },
  {
   "cell_type": "code",
   "execution_count": 7,
   "id": "ab0f39c1-ce13-4606-b4d2-f2d53d3c676c",
   "metadata": {},
   "outputs": [
    {
     "name": "stdout",
     "output_type": "stream",
     "text": [
      "          Property Type  Bedrooms  Bathrooms  Price (Million Naira)  \\\n",
      "0       Detached Duplex         6          5                    450   \n",
      "1       Terraced Duplex         4          5                    800   \n",
      "2  Semi-Detached Duplex         4          4                     75   \n",
      "\n",
      "   Price(USD)  \n",
      "0    585000.0  \n",
      "1   1040000.0  \n",
      "2     97500.0  \n"
     ]
    }
   ],
   "source": [
    "data_frame['Price(USD)'] = data_frame['Price (Million Naira)'] * 1e6 * 0.0013\n",
    "print(data_frame)"
   ]
  },
  {
   "cell_type": "markdown",
   "id": "a10613b1-596f-4b4c-bd1e-5b0a20d04663",
   "metadata": {},
   "source": [
    "###### 2.2 Renaming Columns: columns can be renamed or changed for clarity and this can be done using the following codes."
   ]
  },
  {
   "cell_type": "code",
   "execution_count": 8,
   "id": "ffea306e-1f67-471c-98f5-db478667d7e1",
   "metadata": {},
   "outputs": [
    {
     "name": "stdout",
     "output_type": "stream",
     "text": [
      "          Property Type  Bedrooms  Bathrooms  Price (#)  Price(USD)\n",
      "0       Detached Duplex         6          5        450    585000.0\n",
      "1       Terraced Duplex         4          5        800   1040000.0\n",
      "2  Semi-Detached Duplex         4          4         75     97500.0\n"
     ]
    }
   ],
   "source": [
    "data_frame.rename(columns={'Price (Million Naira)': 'Price (#)', 'Price (USD)': 'Price ($)'}, inplace=True)\n",
    "# The code above is meant to rename the column \"Price (Million Naira)\" to \"Price (#)\" and also to rename \"Price (USD)\" to \"Price ($)\"\n",
    "print(data_frame)"
   ]
  },
  {
   "cell_type": "markdown",
   "id": "2029de93-0403-4d9a-a0cf-046ec538abf1",
   "metadata": {},
   "source": [
    "###### 2.3 Filtering Data: This involves filtering rows based on different conditions"
   ]
  },
  {
   "cell_type": "code",
   "execution_count": 11,
   "id": "3b176ba9-0b98-4207-b901-02ba044c8983",
   "metadata": {},
   "outputs": [
    {
     "name": "stdout",
     "output_type": "stream",
     "text": [
      "     Property Type  Bedrooms  Bathrooms  Price (#)  Price(USD)\n",
      "0  Detached Duplex         6          5        450    585000.0\n"
     ]
    }
   ],
   "source": [
    "# To filter properties with more than 4 bedrooms\n",
    "filtered_data_frame = data_frame[data_frame['Bedrooms'] > 4]\n",
    "\n",
    "# Printing our sorted data from our variable \"filtered_data_frame\".\n",
    "print(filtered_data_frame)"
   ]
  },
  {
   "cell_type": "markdown",
   "id": "6997263d-ebee-44a7-9c52-21545b65e598",
   "metadata": {},
   "source": [
    "###### 2.4 Sorting Data : this involves sorting rows by specific conditions."
   ]
  },
  {
   "cell_type": "code",
   "execution_count": 16,
   "id": "4e147fc1-4db6-45e4-a0c7-1d53aa5c0539",
   "metadata": {},
   "outputs": [
    {
     "name": "stdout",
     "output_type": "stream",
     "text": [
      "          Property Type  Bedrooms  Bathrooms  Price (#)  Price(USD)\n",
      "2  Semi-Detached Duplex         4          4         75     97500.0\n",
      "0       Detached Duplex         6          5        450    585000.0\n",
      "1       Terraced Duplex         4          5        800   1040000.0\n"
     ]
    }
   ],
   "source": [
    "# in this case we want to sort our price in Naira in acceding order using the \"sort_value()\" function \n",
    "sorted_data_frame = data_frame.sort_values(by='Price (#)', ascending=True)\n",
    "print(sorted_data_frame)\n"
   ]
  },
  {
   "cell_type": "markdown",
   "id": "4bb91bef-4a82-4298-a6a7-eaae3cdd2652",
   "metadata": {},
   "source": [
    "###### 2.5 Grouping Data: This involves grouping data by categorical column to perform aggregate functions."
   ]
  },
  {
   "cell_type": "code",
   "execution_count": 22,
   "id": "bdb05cdf-c9bd-468a-ab01-9ba62f6ba9a7",
   "metadata": {},
   "outputs": [
    {
     "name": "stdout",
     "output_type": "stream",
     "text": [
      "Property Type\n",
      "Detached Duplex         450.0\n",
      "Semi-Detached Duplex     75.0\n",
      "Terraced Duplex         800.0\n",
      "Name: Price (#), dtype: float64\n"
     ]
    }
   ],
   "source": [
    "# Group by property type using the \"groupby()\" function and calculate to the avarage or mean price using the \"mean()\" function.\n",
    "grouped_data_frame = data_frame.groupby('Property Type')['Price (#)'].mean()\n",
    "print(grouped_data_frame)"
   ]
  },
  {
   "cell_type": "markdown",
   "id": "18abdcad-5e1a-4bce-bca5-21d5115186de",
   "metadata": {},
   "source": [
    "###### N.B: That the naming covention for the variable like \"grouped_data_frame\" & \"sorted_data_frame\" must be followed strictly to prevent errors, also note that the (-) sign is prohibeted in python."
   ]
  },
  {
   "cell_type": "markdown",
   "id": "66fb2d3f-57d4-478b-9873-5f50b4ef474c",
   "metadata": {},
   "source": [
    "###### 2.6 Dropping Columns or Rows: Removing unnecessary rows or columns"
   ]
  },
  {
   "cell_type": "code",
   "execution_count": 37,
   "id": "73dddb30-a92e-4861-bbc7-2348ff0e890b",
   "metadata": {},
   "outputs": [
    {
     "name": "stdout",
     "output_type": "stream",
     "text": [
      "          Property Type  Bedrooms  Price (Million Naira)\n",
      "0       Detached Duplex         6                    450\n",
      "1       Terraced Duplex         4                    800\n",
      "2  Semi-Detached Duplex         4                     75\n"
     ]
    }
   ],
   "source": [
    "# Dropping the column 'bathrooms' column using the drop() function.\n",
    "dropped_data_frame = data_frame.drop(columns=['Bathrooms'])\n",
    "print(dropped_data_frame)"
   ]
  },
  {
   "cell_type": "code",
   "execution_count": 38,
   "id": "8325e8cc-854e-43f3-ab77-43a6e8572fdf",
   "metadata": {},
   "outputs": [
    {
     "name": "stdout",
     "output_type": "stream",
     "text": [
      "          Property Type  Bedrooms  Price (Million Naira)\n",
      "0       Detached Duplex         6                    450\n",
      "1       Terraced Duplex         4                    800\n",
      "2  Semi-Detached Duplex         4                     75\n"
     ]
    }
   ],
   "source": [
    "# To drop the 'Bathrooms' column in place still using the drop() function.\n",
    "data_frame.drop(columns = ['Bathrooms'], inplace=True)\n",
    "print(data_frame)\n"
   ]
  },
  {
   "cell_type": "code",
   "execution_count": 42,
   "id": "739e1288-213c-460c-abd7-1639960793ab",
   "metadata": {},
   "outputs": [
    {
     "name": "stdout",
     "output_type": "stream",
     "text": [
      "     Property Type  Bedrooms  Bathrooms  Price (#)  Price(USD)\n",
      "0  Detached Duplex         6          5        450    585000.0\n"
     ]
    }
   ],
   "source": [
    "# Reseting index after filtering using the reset() function.\n",
    "filtered_data_frame.reset_index(drop=True, inplace=True)\n",
    "print(filtered_data_frame)\n",
    "\n"
   ]
  },
  {
   "cell_type": "code",
   "execution_count": 44,
   "id": "2da70ed3-f0a7-4cac-b590-8b47d3899d53",
   "metadata": {},
   "outputs": [
    {
     "data": {
      "text/html": [
       "<div>\n",
       "<style scoped>\n",
       "    .dataframe tbody tr th:only-of-type {\n",
       "        vertical-align: middle;\n",
       "    }\n",
       "\n",
       "    .dataframe tbody tr th {\n",
       "        vertical-align: top;\n",
       "    }\n",
       "\n",
       "    .dataframe thead th {\n",
       "        text-align: right;\n",
       "    }\n",
       "</style>\n",
       "<table border=\"1\" class=\"dataframe\">\n",
       "  <thead>\n",
       "    <tr style=\"text-align: right;\">\n",
       "      <th></th>\n",
       "      <th>Property Type</th>\n",
       "      <th>Bedrooms</th>\n",
       "      <th>Bathrooms</th>\n",
       "      <th>Price (#)</th>\n",
       "      <th>Price(USD)</th>\n",
       "    </tr>\n",
       "  </thead>\n",
       "  <tbody>\n",
       "    <tr>\n",
       "      <th>0</th>\n",
       "      <td>Detached Duplex</td>\n",
       "      <td>6</td>\n",
       "      <td>5</td>\n",
       "      <td>450</td>\n",
       "      <td>585000.0</td>\n",
       "    </tr>\n",
       "  </tbody>\n",
       "</table>\n",
       "</div>"
      ],
      "text/plain": [
       "     Property Type  Bedrooms  Bathrooms  Price (#)  Price(USD)\n",
       "0  Detached Duplex         6          5        450    585000.0"
      ]
     },
     "execution_count": 44,
     "metadata": {},
     "output_type": "execute_result"
    }
   ],
   "source": [
    "filtered_data_frame"
   ]
  },
  {
   "cell_type": "code",
   "execution_count": null,
   "id": "c8131945-425f-4d83-9e35-baa8e074e464",
   "metadata": {},
   "outputs": [],
   "source": []
  }
 ],
 "metadata": {
  "kernelspec": {
   "display_name": "Python 3 (ipykernel)",
   "language": "python",
   "name": "python3"
  },
  "language_info": {
   "codemirror_mode": {
    "name": "ipython",
    "version": 3
   },
   "file_extension": ".py",
   "mimetype": "text/x-python",
   "name": "python",
   "nbconvert_exporter": "python",
   "pygments_lexer": "ipython3",
   "version": "3.12.8"
  }
 },
 "nbformat": 4,
 "nbformat_minor": 5
}
