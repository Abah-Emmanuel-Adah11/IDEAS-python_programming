{
 "cells": [
  {
   "cell_type": "code",
   "execution_count": null,
   "id": "091659fd-475a-4e60-b1f8-eab5eadbe32f",
   "metadata": {},
   "outputs": [],
   "source": []
  }
 ],
 "metadata": {
  "kernelspec": {
   "display_name": "",
   "name": ""
  },
  "language_info": {
   "name": ""
  }
 },
 "nbformat": 4,
 "nbformat_minor": 5
}
