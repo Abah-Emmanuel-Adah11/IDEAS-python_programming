{
 "cells": [
  {
   "cell_type": "code",
   "execution_count": 3,
   "id": "974307f2-41dc-48f6-9eef-5932a0f446d1",
   "metadata": {},
   "outputs": [
    {
     "name": "stdout",
     "output_type": "stream",
     "text": [
      "is it sunny ? True\n",
      "is it ranning ? False\n"
     ]
    }
   ],
   "source": [
    "is_sunny = True\n",
    "is_raining = False\n",
    "print(\"is it sunny ?\", is_sunny)\n",
    "print(\"is it ranning ?\", is_raining)\n"
   ]
  },
  {
   "cell_type": "code",
   "execution_count": 9,
   "id": "7ed878f9-88ce-4246-abbc-ee0344891e59",
   "metadata": {},
   "outputs": [
    {
     "name": "stdout",
     "output_type": "stream",
     "text": [
      "Time to eat!\n"
     ]
    }
   ],
   "source": [
    "is_hungry = 1\n",
    "\n",
    "if is_hungry:\n",
    "    print(\"Time to eat!\")\n",
    "else:\n",
    "    print(\"Not hungry yet.\")"
   ]
  },
  {
   "cell_type": "code",
   "execution_count": 10,
   "id": "6c9899d8-5323-4c58-83c3-5b413ed7eb41",
   "metadata": {},
   "outputs": [
    {
     "name": "stdout",
     "output_type": "stream",
     "text": [
      "('apple', 'banana', 'cherry')\n"
     ]
    }
   ],
   "source": [
    "fruits = (\"apple\", \"banana\", \"cherry\")\n",
    "print(fruits)"
   ]
  },
  {
   "cell_type": "code",
   "execution_count": 16,
   "id": "311b480f-0760-42ae-a621-14d0368ce322",
   "metadata": {},
   "outputs": [
    {
     "name": "stdout",
     "output_type": "stream",
     "text": [
      "apple\n",
      "banana\n"
     ]
    },
    {
     "ename": "TypeError",
     "evalue": "'tuple' object does not support item assignment",
     "output_type": "error",
     "traceback": [
      "\u001b[1;31m---------------------------------------------------------------------------\u001b[0m",
      "\u001b[1;31mTypeError\u001b[0m                                 Traceback (most recent call last)",
      "Cell \u001b[1;32mIn[16], line 4\u001b[0m\n\u001b[0;32m      1\u001b[0m \u001b[38;5;28mprint\u001b[39m(fruits[\u001b[38;5;241m0\u001b[39m])\n\u001b[0;32m      2\u001b[0m \u001b[38;5;28mprint\u001b[39m(fruits[\u001b[38;5;241m1\u001b[39m])\n\u001b[1;32m----> 4\u001b[0m \u001b[43mfruits\u001b[49m\u001b[43m[\u001b[49m\u001b[38;5;241;43m1\u001b[39;49m\u001b[43m]\u001b[49m \u001b[38;5;241m=\u001b[39m \u001b[38;5;124m\"\u001b[39m\u001b[38;5;124mpaw paw\u001b[39m\u001b[38;5;124m\"\u001b[39m\n",
      "\u001b[1;31mTypeError\u001b[0m: 'tuple' object does not support item assignment"
     ]
    }
   ],
   "source": [
    "print(fruits[0])\n",
    "print(fruits[1])\n",
    "\n",
    "fruits[1] = \"paw paw\""
   ]
  },
  {
   "cell_type": "code",
   "execution_count": 13,
   "id": "6732103b-1064-4c03-b012-2af263dc607b",
   "metadata": {},
   "outputs": [
    {
     "name": "stdout",
     "output_type": "stream",
     "text": [
      "<class 'tuple'>\n"
     ]
    }
   ],
   "source": [
    "print(type(fruits))"
   ]
  },
  {
   "cell_type": "code",
   "execution_count": 14,
   "id": "12734a3d-5fed-49a6-a022-5af8d7152d25",
   "metadata": {},
   "outputs": [
    {
     "name": "stdout",
     "output_type": "stream",
     "text": [
      "['carrot', 'broccoli', 'spinach']\n"
     ]
    }
   ],
   "source": [
    "vegetables = [\"carrot\", \"broccoli\", \"spinach\"]\n",
    "print(vegetables)"
   ]
  },
  {
   "cell_type": "code",
   "execution_count": 15,
   "id": "60860021-e701-48ab-ba74-dcb425cde6cf",
   "metadata": {},
   "outputs": [
    {
     "name": "stdout",
     "output_type": "stream",
     "text": [
      "['lettuce', 'broccoli', 'spinach']\n"
     ]
    }
   ],
   "source": [
    "vegetables[0] = \"lettuce\"\n",
    "print(vegetables)"
   ]
  },
  {
   "cell_type": "code",
   "execution_count": 19,
   "id": "3b1860d9-7198-488f-a4ac-bd4d8ed9cb39",
   "metadata": {},
   "outputs": [
    {
     "name": "stdout",
     "output_type": "stream",
     "text": [
      "{'name': 'john', 'age': 25, 'grade': 'A'}\n"
     ]
    }
   ],
   "source": [
    "student = {\n",
    "    \"name\": \"john\",\n",
    "    \"age\": 25,\n",
    "    \"grade\": \"A\"\n",
    "}\n",
    "\n",
    "print(student)"
   ]
  },
  {
   "cell_type": "code",
   "execution_count": 20,
   "id": "b9b3ce3c-9b42-48a3-9167-7a240a2bc7c5",
   "metadata": {},
   "outputs": [
    {
     "ename": "TypeError",
     "evalue": "'dict' object is not callable",
     "output_type": "error",
     "traceback": [
      "\u001b[1;31m---------------------------------------------------------------------------\u001b[0m",
      "\u001b[1;31mTypeError\u001b[0m                                 Traceback (most recent call last)",
      "Cell \u001b[1;32mIn[20], line 1\u001b[0m\n\u001b[1;32m----> 1\u001b[0m \u001b[38;5;28mprint\u001b[39m(\u001b[43mstudent\u001b[49m\u001b[43m(\u001b[49m\u001b[38;5;124;43m\"\u001b[39;49m\u001b[38;5;124;43mname\u001b[39;49m\u001b[38;5;124;43m\"\u001b[39;49m\u001b[43m)\u001b[49m)\n",
      "\u001b[1;31mTypeError\u001b[0m: 'dict' object is not callable"
     ]
    }
   ],
   "source": [
    "print(student(\"name\"))"
   ]
  },
  {
   "cell_type": "code",
   "execution_count": 21,
   "id": "08b5cc70-1134-463e-92df-8f4938ab27bf",
   "metadata": {},
   "outputs": [
    {
     "name": "stdin",
     "output_type": "stream",
     "text": [
      "What is your name ? Emmanuel\n"
     ]
    },
    {
     "name": "stdout",
     "output_type": "stream",
     "text": [
      "Welcome back Emmanuel\n"
     ]
    }
   ],
   "source": [
    "name = input(\"What is your name ?\")\n",
    "print(\"Welcome back\"+\" \"+ name)"
   ]
  },
  {
   "cell_type": "code",
   "execution_count": null,
   "id": "1ee84e98-d207-4c27-9799-083c5c96cfd8",
   "metadata": {},
   "outputs": [],
   "source": [
    "age = int(input(\"What is your age ?\"))\n",
    "\n",
    "if age < 18\n",
    "    print(\"You are a minor\")\n",
    "elif age >= 18 and age < 60\n",
    "    print"
   ]
  }
 ],
 "metadata": {
  "kernelspec": {
   "display_name": "Python 3 (ipykernel)",
   "language": "python",
   "name": "python3"
  },
  "language_info": {
   "codemirror_mode": {
    "name": "ipython",
    "version": 3
   },
   "file_extension": ".py",
   "mimetype": "text/x-python",
   "name": "python",
   "nbconvert_exporter": "python",
   "pygments_lexer": "ipython3",
   "version": "3.11.9"
  }
 },
 "nbformat": 4,
 "nbformat_minor": 5
}
