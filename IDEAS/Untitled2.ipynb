{
 "cells": [
  {
   "cell_type": "markdown",
   "id": "656a909f-6002-4911-ba7a-a24675186283",
   "metadata": {},
   "source": [
    "### Solution 1: Understanding Variables and Data Types"
   ]
  },
  {
   "cell_type": "code",
   "execution_count": 5,
   "id": "0f40363d-9e66-4427-afe3-ef83388ac0a8",
   "metadata": {},
   "outputs": [],
   "source": [
    "age = 26                      #The variable \"age\" holds the value 26 which is an integer."
   ]
  },
  {
   "cell_type": "code",
   "execution_count": 6,
   "id": "2409c140-6f17-4d0e-9976-98980d0922fe",
   "metadata": {},
   "outputs": [],
   "source": [
    "height = 1.72                 #The variable \"height\" holds the value 1.72 which is a float."
   ]
  },
  {
   "cell_type": "code",
   "execution_count": 7,
   "id": "fccbfbda-a2b6-4c8c-9128-b57934b5c30a",
   "metadata": {},
   "outputs": [],
   "source": [
    "name =\"Emmanuel Adah Abah\"    #The variable \"name\" holds the string \"Emmanuel Adah Abah\" as it value."
   ]
  },
  {
   "cell_type": "code",
   "execution_count": 11,
   "id": "ec117673-f9c6-4c5e-b4b9-2b4391f6385b",
   "metadata": {},
   "outputs": [
    {
     "name": "stdout",
     "output_type": "stream",
     "text": [
      "26\n",
      "<class 'int'>\n",
      "1.72\n",
      "<class 'float'>\n",
      "Emmanuel Adah Abah\n",
      "<class 'str'>\n"
     ]
    }
   ],
   "source": [
    "print(age)\n",
    "print(type(age))\n",
    "\n",
    "print(height)\n",
    "print(type(height))\n",
    "\n",
    "print(name)\n",
    "print(type(name))"
   ]
  },
  {
   "cell_type": "markdown",
   "id": "d45115df-1241-4c1b-9621-bc85d720a1b1",
   "metadata": {},
   "source": [
    "### Solution 2: Basic Arithmetic Operations"
   ]
  },
  {
   "cell_type": "code",
   "execution_count": 14,
   "id": "270c328c-f5ec-467b-95f5-f13f87ac0a52",
   "metadata": {},
   "outputs": [
    {
     "name": "stdout",
     "output_type": "stream",
     "text": [
      "27.72\n"
     ]
    }
   ],
   "source": [
    "addition = age + height\n",
    "print(addition)"
   ]
  },
  {
   "cell_type": "code",
   "execution_count": 15,
   "id": "b340cbec-7e8c-4744-9488-c862fd9677c2",
   "metadata": {},
   "outputs": [
    {
     "name": "stdout",
     "output_type": "stream",
     "text": [
      "52\n"
     ]
    }
   ],
   "source": [
    "multiplication = age * 2\n",
    "print(multiplication)"
   ]
  },
  {
   "cell_type": "code",
   "execution_count": 16,
   "id": "8cb1e5b8-c1a9-4a1d-ae26-6f5b0a6f91a8",
   "metadata": {},
   "outputs": [
    {
     "ename": "SyntaxError",
     "evalue": "Missing parentheses in call to 'print'. Did you mean print(...)? (4251814888.py, line 2)",
     "output_type": "error",
     "traceback": [
      "\u001b[1;36m  Cell \u001b[1;32mIn[16], line 2\u001b[1;36m\u001b[0m\n\u001b[1;33m    print round(division, 2)\u001b[0m\n\u001b[1;37m    ^\u001b[0m\n\u001b[1;31mSyntaxError\u001b[0m\u001b[1;31m:\u001b[0m Missing parentheses in call to 'print'. Did you mean print(...)?\n"
     ]
    }
   ],
   "source": [
    "division = age / height\n",
    " round(division, 2)"
   ]
  },
  {
   "cell_type": "code",
   "execution_count": null,
   "id": "5200f8ee-dadb-44f3-9350-0f53990179ec",
   "metadata": {},
   "outputs": [],
   "source": []
  }
 ],
 "metadata": {
  "kernelspec": {
   "display_name": "Python 3 (ipykernel)",
   "language": "python",
   "name": "python3"
  },
  "language_info": {
   "codemirror_mode": {
    "name": "ipython",
    "version": 3
   },
   "file_extension": ".py",
   "mimetype": "text/x-python",
   "name": "python",
   "nbconvert_exporter": "python",
   "pygments_lexer": "ipython3",
   "version": "3.11.9"
  }
 },
 "nbformat": 4,
 "nbformat_minor": 5
}
