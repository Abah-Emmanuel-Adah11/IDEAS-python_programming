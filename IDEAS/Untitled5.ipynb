{
 "cells": [
  {
   "cell_type": "markdown",
   "id": "27bff7a8-01ca-4906-bbab-34f13ec2e03b",
   "metadata": {},
   "source": [
    "### Solution 1: Understanding Variables and Data Types"
   ]
  },
  {
   "cell_type": "code",
   "execution_count": 1,
   "id": "e4606c72-07d1-4a17-80d3-befc83d3b812",
   "metadata": {},
   "outputs": [],
   "source": [
    "age = 26                      #The variable \"age\" holds the value 26 which is an integer."
   ]
  },
  {
   "cell_type": "code",
   "execution_count": 2,
   "id": "3cadad2a-7fdb-4d97-9c1c-13d17b272a5c",
   "metadata": {},
   "outputs": [],
   "source": [
    "height = 1.72                 #The variable \"height\" holds the value 1.72 which is a float."
   ]
  },
  {
   "cell_type": "code",
   "execution_count": 3,
   "id": "754e3216-3238-4d64-9b7d-c89e07ed2c7f",
   "metadata": {},
   "outputs": [],
   "source": [
    "name =\"Emmanuel Adah Abah\"    #The variable \"name\" holds the string \"Emmanuel Adah Abah\" as it value."
   ]
  },
  {
   "cell_type": "code",
   "execution_count": 4,
   "id": "9fe5c8da-0bef-4574-aad2-02d231a1339a",
   "metadata": {},
   "outputs": [
    {
     "name": "stdout",
     "output_type": "stream",
     "text": [
      "26\n",
      "<class 'int'>\n",
      "1.72\n",
      "<class 'float'>\n",
      "Emmanuel Adah Abah\n",
      "<class 'str'>\n"
     ]
    }
   ],
   "source": [
    "print(age)\n",
    "print(type(age))\n",
    "\n",
    "print(height)\n",
    "print(type(height))\n",
    "\n",
    "print(name)\n",
    "print(type(name))"
   ]
  },
  {
   "cell_type": "markdown",
   "id": "0b15e99f-bf29-4c05-9c90-b7884176a8b9",
   "metadata": {},
   "source": [
    "### Solution 2: Basic Arithmetic Operations"
   ]
  },
  {
   "cell_type": "code",
   "execution_count": 6,
   "id": "514e0424-3d2f-473c-9aba-ca8805f99504",
   "metadata": {},
   "outputs": [
    {
     "name": "stdout",
     "output_type": "stream",
     "text": [
      "27.72\n"
     ]
    }
   ],
   "source": [
    "addition = age + height\n",
    "print(addition)"
   ]
  },
  {
   "cell_type": "code",
   "execution_count": 7,
   "id": "4d0e5f4b-823b-46cb-b899-2d8692f8d3b6",
   "metadata": {},
   "outputs": [
    {
     "name": "stdout",
     "output_type": "stream",
     "text": [
      "52\n"
     ]
    }
   ],
   "source": [
    "multiplication = age * 2\n",
    "print(multiplication)"
   ]
  },
  {
   "cell_type": "code",
   "execution_count": 8,
   "id": "71d7560d-0c9b-4b71-a9f7-9b4b03b1dc46",
   "metadata": {},
   "outputs": [
    {
     "name": "stdout",
     "output_type": "stream",
     "text": [
      "15.12\n"
     ]
    }
   ],
   "source": [
    "division = age / height\n",
    "rounded_division = round(division, 2)\n",
    "print(rounded_division)"
   ]
  },
  {
   "cell_type": "code",
   "execution_count": 9,
   "id": "444026fc-d10e-4fa4-a583-35e551e541a3",
   "metadata": {},
   "outputs": [
    {
     "name": "stdout",
     "output_type": "stream",
     "text": [
      "8\n"
     ]
    }
   ],
   "source": [
    "operator = age // 3\n",
    "print(operator)"
   ]
  }
 ],
 "metadata": {
  "kernelspec": {
   "display_name": "Python 3 (ipykernel)",
   "language": "python",
   "name": "python3"
  },
  "language_info": {
   "codemirror_mode": {
    "name": "ipython",
    "version": 3
   },
   "file_extension": ".py",
   "mimetype": "text/x-python",
   "name": "python",
   "nbconvert_exporter": "python",
   "pygments_lexer": "ipython3",
   "version": "3.11.9"
  }
 },
 "nbformat": 4,
 "nbformat_minor": 5
}
