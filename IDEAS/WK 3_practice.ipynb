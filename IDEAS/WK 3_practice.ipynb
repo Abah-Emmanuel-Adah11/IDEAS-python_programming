{
 "cells": [
  {
   "cell_type": "markdown",
   "id": "d57996c0-d294-44ce-bf36-5d1b366f22bb",
   "metadata": {},
   "source": [
    "### Examples on python operators"
   ]
  },
  {
   "cell_type": "code",
   "execution_count": 6,
   "id": "7e284d83-2554-467f-a86b-1f343aff26a5",
   "metadata": {},
   "outputs": [
    {
     "name": "stdout",
     "output_type": "stream",
     "text": [
      "Stay at home\n"
     ]
    }
   ],
   "source": [
    "is_sunny = True\n",
    "is_raining = False\n",
    "\n",
    "if is_sunny and is_raining:\n",
    "    print(\"Go for a walk\")\n",
    "else:\n",
    "    print(\"Stay at home\")"
   ]
  },
  {
   "cell_type": "code",
   "execution_count": 3,
   "id": "098ae93b-7dd0-4b37-856f-c15f6de8f17f",
   "metadata": {},
   "outputs": [
    {
     "name": "stdout",
     "output_type": "stream",
     "text": [
      "Access granted.\n"
     ]
    }
   ],
   "source": [
    "age = 20\n",
    "has_id = 1\n",
    "\n",
    "if age >= 18 and has_id:\n",
    "    print(\"Access granted.\")\n",
    "else:\n",
    "    print(\"Access denied.\")"
   ]
  },
  {
   "cell_type": "code",
   "execution_count": 4,
   "id": "5b6ff90b-eede-4807-b905-7d35071f2032",
   "metadata": {},
   "outputs": [
    {
     "name": "stdout",
     "output_type": "stream",
     "text": [
      "You do not qualify.\n"
     ]
    }
   ],
   "source": [
    "math_score = 75\n",
    "english_score = 75\n",
    "\n",
    "if math_score >= 80 and english_score >= 80:\n",
    "    print(\"You are qualified for addmission\")\n",
    "else:\n",
    "    print(\"You do not qualify.\")"
   ]
  },
  {
   "cell_type": "markdown",
   "id": "afb8cb0f-45e3-4a02-8370-2d41ae92365f",
   "metadata": {},
   "source": [
    "##### Examples on python conditionals"
   ]
  },
  {
   "cell_type": "code",
   "execution_count": 7,
   "id": "2c573496-d537-4018-a84b-4430ae5f5ddd",
   "metadata": {},
   "outputs": [
    {
     "name": "stdout",
     "output_type": "stream",
     "text": [
      "It's warm.\n"
     ]
    }
   ],
   "source": [
    "\n",
    "tempreture = 28\n",
    "\n",
    "if tempreture > 35:\n",
    "    print(\"It's hot.\")\n",
    "elif tempreture > 20:\n",
    "    print(\"It's warm.\")\n",
    "else:\n",
    "    print(\"It's cold.\")"
   ]
  },
  {
   "cell_type": "code",
   "execution_count": 10,
   "id": "54e16f10-3908-48cc-938b-665dd9b1eeca",
   "metadata": {},
   "outputs": [
    {
     "name": "stdout",
     "output_type": "stream",
     "text": [
      "Good job!\n"
     ]
    }
   ],
   "source": [
    "#### Nested conditionals\n",
    "score = 85\n",
    "\n",
    "##first condition to be meet\n",
    "if score >= 50:\n",
    "    \n",
    "    #moves into this second condition after successfully passing the first.\n",
    "    if score >= 90:\n",
    "        print(\"Excellent!\")\n",
    "    else:\n",
    "        print(\"Good job!\")\n",
    "        \n",
    "##come down straight to this last condition if it does not pass the first condition of scroring >= 50.         \n",
    "else:\n",
    "    print(\"Try again.\")"
   ]
  },
  {
   "cell_type": "markdown",
   "id": "a1c371d5-9650-432c-8a83-2e8ad4853d29",
   "metadata": {},
   "source": [
    "### Examples on python loops"
   ]
  },
  {
   "cell_type": "markdown",
   "id": "5dafe8c8-0e13-4f41-af7f-3b62097fdb84",
   "metadata": {},
   "source": [
    "#### For Loops\n",
    "##### Repeats actions over a sequence."
   ]
  },
  {
   "cell_type": "code",
   "execution_count": 14,
   "id": "51be6dab-3f34-400d-96a2-1eff082e3ca3",
   "metadata": {},
   "outputs": [
    {
     "name": "stdout",
     "output_type": "stream",
     "text": [
      "apple\n",
      "banana\n",
      "cherry\n"
     ]
    }
   ],
   "source": [
    "fruits = [\"apple\", \"banana\", \"cherry\"]\n",
    "for fruit_list in fruits:\n",
    "    print(fruit_list)"
   ]
  },
  {
   "cell_type": "markdown",
   "id": "0e49f492-92ba-45e8-bf91-ad07deecdad2",
   "metadata": {},
   "source": [
    "#### While loop\n",
    "##### Executes as long as the condition is true"
   ]
  },
  {
   "cell_type": "code",
   "execution_count": 1,
   "id": "fd6a0951-4cd5-4067-972a-3bd737e1746d",
   "metadata": {},
   "outputs": [
    {
     "name": "stdout",
     "output_type": "stream",
     "text": [
      "0\n",
      "1\n",
      "2\n",
      "3\n",
      "4\n",
      "5\n",
      "6\n",
      "7\n",
      "8\n",
      "9\n"
     ]
    }
   ],
   "source": [
    "count = 0\n",
    "while count < 10:\n",
    "    print(count)\n",
    "    count += 1 #this line simply means that count be incremented by 1 (One)"
   ]
  },
  {
   "cell_type": "code",
   "execution_count": 2,
   "id": "b9b59296-7167-4f6a-8cfc-1edf648f3110",
   "metadata": {},
   "outputs": [
    {
     "name": "stdout",
     "output_type": "stream",
     "text": [
      "5\n",
      "4\n",
      "3\n",
      "2\n",
      "1\n",
      "Blast off!\n"
     ]
    }
   ],
   "source": [
    "count = 5\n",
    "while count > 0:\n",
    "    print(count)\n",
    "    count -= 1 #this line implies that count be decremented by 1(One)\n",
    "print(\"Blast off!\")\n",
    "    "
   ]
  },
  {
   "cell_type": "markdown",
   "id": "de616be3-e49e-4282-9db4-d35b35890cd0",
   "metadata": {},
   "source": [
    "##### An infinite loop occurs when the loop's exit condition is never met, causing the loop to run endlessly"
   ]
  },
  {
   "cell_type": "raw",
   "id": "b05a7644-1903-497f-8089-95e1a16026c9",
   "metadata": {},
   "source": [
    "An example is the code below.\n",
    "\n",
    "count = 1\n",
    "while count > 0:\n",
    "    print(\"This will run forever!\") # this condition of count being > 0, will always be true, hence the loop runs infinetly. "
   ]
  },
  {
   "cell_type": "markdown",
   "id": "90bb4a74-fbdc-4367-b94f-5ba960ad62dc",
   "metadata": {},
   "source": [
    "### Examples on python Functions"
   ]
  },
  {
   "cell_type": "raw",
   "id": "efb30393-1685-4710-965b-f445f802f9f5",
   "metadata": {},
   "source": [
    "Fuctions are reusable block of code for performing tasks. the \"def\" key word is used to declare function in python."
   ]
  },
  {
   "cell_type": "code",
   "execution_count": 3,
   "id": "f50e680d-749a-402a-bf5c-16f47a620d55",
   "metadata": {},
   "outputs": [
    {
     "name": "stdout",
     "output_type": "stream",
     "text": [
      "Hello, Afamefuna! Welcome to TechRoyale Studio.\n",
      "Hello, Joy! Welcome to TechRoyale Studio.\n"
     ]
    }
   ],
   "source": [
    "# this example deals with a function that takes user \"name\" as parameter or inputs and greets the user at the end.\n",
    "\n",
    "# Declaring the function\n",
    "def greet_user(name):\n",
    "    return \"Hello, \" + name + \"! Welcome to TechRoyale Studio.\"\n",
    "\n",
    "# Calling the function\n",
    "print(greet_user(\"Afamefuna\"))\n",
    "print(greet_user(\"Joy\"))"
   ]
  },
  {
   "cell_type": "raw",
   "id": "93616262-8078-4387-b4e6-ebb88546bfa7",
   "metadata": {},
   "source": [
    "Notice that the above function was used for the name \"Afamefuna\" and also for the second name \"Joy\". Without having to write the code for the second name separetely. That is why functions are tagged reusable bits of code, this same function can be applied to as many names as possible.  "
   ]
  },
  {
   "cell_type": "code",
   "execution_count": 6,
   "id": "0c726c3c-e896-4345-ba90-cd32c157157b",
   "metadata": {},
   "outputs": [
    {
     "name": "stdout",
     "output_type": "stream",
     "text": [
      "Pass\n",
      "Fail\n"
     ]
    }
   ],
   "source": [
    "# A function to determine whether a student passes or fails based on their scores.\n",
    "\n",
    "def check_pass(math, english, science):\n",
    "    average = (math + english + science) / 3\n",
    "    if average >= 50:\n",
    "        return \"Pass\"\n",
    "    else:\n",
    "        return \"Fail\"\n",
    "\n",
    "# calling the function\n",
    "print(check_pass(60, 50, 55)) # this will output pass\n",
    "print(check_pass(40, 35, 45)) # this will output fail "
   ]
  },
  {
   "cell_type": "code",
   "execution_count": 10,
   "id": "a99001e8-e174-45ec-bb95-5bef465910d0",
   "metadata": {},
   "outputs": [
    {
     "name": "stdout",
     "output_type": "stream",
     "text": [
      "{'Alice': 'B', 'Bob': 'A', 'Charlie': 'F'}\n"
     ]
    }
   ],
   "source": [
    "def assign_grades(scores):\n",
    "    grades = {}\n",
    "    for student, score in scores.items():\n",
    "        if score >= 90:\n",
    "            grades[student] = \"A\"\n",
    "        elif score >= 80:\n",
    "            grades[student] = \"B\"\n",
    "        elif score >= 70:\n",
    "            grades[student] = \"C\"\n",
    "        elif score >= 60:\n",
    "            grades[student] = \"F\"\n",
    "    return grades\n",
    "\n",
    "# calling the function\n",
    "students_scores = {\"Alice\": 85, \"Bob\": 92, \"Charlie\": 67}\n",
    "print(assign_grades(students_scores))\n",
    "        "
   ]
  },
  {
   "cell_type": "code",
   "execution_count": null,
   "id": "d949c94f-118f-4d7b-abb4-29bcaf60c95b",
   "metadata": {},
   "outputs": [],
   "source": []
  }
 ],
 "metadata": {
  "kernelspec": {
   "display_name": "Python 3 (ipykernel)",
   "language": "python",
   "name": "python3"
  },
  "language_info": {
   "codemirror_mode": {
    "name": "ipython",
    "version": 3
   },
   "file_extension": ".py",
   "mimetype": "text/x-python",
   "name": "python",
   "nbconvert_exporter": "python",
   "pygments_lexer": "ipython3",
   "version": "3.11.9"
  }
 },
 "nbformat": 4,
 "nbformat_minor": 5
}
