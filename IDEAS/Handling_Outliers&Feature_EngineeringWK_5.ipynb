{
 "cells": [
  {
   "cell_type": "code",
   "execution_count": 20,
   "id": "3a451366-df53-4de8-964f-b9529fae4ad0",
   "metadata": {},
   "outputs": [],
   "source": [
    "import pandas as pd\n",
    "import numpy as np"
   ]
  },
  {
   "cell_type": "markdown",
   "id": "842eb7cf-4c63-4222-bd1a-4fd35604a58f",
   "metadata": {},
   "source": [
    "### Handling Outliers"
   ]
  },
  {
   "cell_type": "raw",
   "id": "9ce6cf3b-3ba7-4fe1-b6f8-c91b85bafc84",
   "metadata": {},
   "source": [
    "Outliers are usually extreme values that differs significantly from the rest of the Data. They can be detected and handle in different ways like:\n",
    "1. Removing them.\n",
    "2. capping them at a certain threshold or standardzing them."
   ]
  },
  {
   "cell_type": "markdown",
   "id": "39bcb780-51f2-45a0-94f5-b4bc3986eb64",
   "metadata": {},
   "source": [
    "##### Methods of Detecting Outliers"
   ]
  },
  {
   "cell_type": "raw",
   "id": "c49d1f8f-5605-43dc-b6bd-33f1f62cad1a",
   "metadata": {},
   "source": [
    "1. Interquatile Range (IQR) Method: This involves detecting outliers using the IQR which is the range between the 25th and 75th percentile.\n",
    "2. Standard deviation Method: It detect outliers by checking how far a data is from the mean in terms of the standard deviation. A common threshood\n",
    "                              is three (3) standard deviation away from the mean. "
   ]
  },
  {
   "cell_type": "markdown",
   "id": "dee99e0f-0fdf-4b62-82a4-eb0e3e4e89d5",
   "metadata": {},
   "source": [
    "##### Example"
   ]
  },
  {
   "cell_type": "raw",
   "id": "b49acb69-722c-406f-bdf3-1bb377d6697d",
   "metadata": {},
   "source": [
    "We'll detect and handle outliers in the \"Salary\" column using both methods. "
   ]
  },
  {
   "cell_type": "code",
   "execution_count": 30,
   "id": "d62c9d1d-c199-4f86-961b-08ec9ba52d54",
   "metadata": {},
   "outputs": [],
   "source": [
    "import numpy as np\n",
    "\n",
    "# We create a simple dataset with an outlier in the salary column\n",
    "data = {\n",
    "    'Name': ['Alice','Bob','Charlie','David','Eve'],\n",
    "    'Salary': [50000,60000,70000, 1000000,75000] # David has a much larger salary (Outlier)\n",
    "}\n",
    "\n",
    "df_outliers = pd.DataFrame(data) # Converting the dictionary into a pandas DataFrame"
   ]
  },
  {
   "cell_type": "code",
   "execution_count": 31,
   "id": "61dcc3dc-6371-4619-b26c-7cb33172114d",
   "metadata": {},
   "outputs": [
    {
     "data": {
      "text/html": [
       "<div>\n",
       "<style scoped>\n",
       "    .dataframe tbody tr th:only-of-type {\n",
       "        vertical-align: middle;\n",
       "    }\n",
       "\n",
       "    .dataframe tbody tr th {\n",
       "        vertical-align: top;\n",
       "    }\n",
       "\n",
       "    .dataframe thead th {\n",
       "        text-align: right;\n",
       "    }\n",
       "</style>\n",
       "<table border=\"1\" class=\"dataframe\">\n",
       "  <thead>\n",
       "    <tr style=\"text-align: right;\">\n",
       "      <th></th>\n",
       "      <th>Name</th>\n",
       "      <th>Salary</th>\n",
       "    </tr>\n",
       "  </thead>\n",
       "  <tbody>\n",
       "    <tr>\n",
       "      <th>0</th>\n",
       "      <td>Alice</td>\n",
       "      <td>50000</td>\n",
       "    </tr>\n",
       "    <tr>\n",
       "      <th>1</th>\n",
       "      <td>Bob</td>\n",
       "      <td>60000</td>\n",
       "    </tr>\n",
       "    <tr>\n",
       "      <th>2</th>\n",
       "      <td>Charlie</td>\n",
       "      <td>70000</td>\n",
       "    </tr>\n",
       "    <tr>\n",
       "      <th>3</th>\n",
       "      <td>David</td>\n",
       "      <td>1000000</td>\n",
       "    </tr>\n",
       "    <tr>\n",
       "      <th>4</th>\n",
       "      <td>Eve</td>\n",
       "      <td>75000</td>\n",
       "    </tr>\n",
       "  </tbody>\n",
       "</table>\n",
       "</div>"
      ],
      "text/plain": [
       "      Name   Salary\n",
       "0    Alice    50000\n",
       "1      Bob    60000\n",
       "2  Charlie    70000\n",
       "3    David  1000000\n",
       "4      Eve    75000"
      ]
     },
     "execution_count": 31,
     "metadata": {},
     "output_type": "execute_result"
    }
   ],
   "source": [
    "df_outliers"
   ]
  },
  {
   "cell_type": "markdown",
   "id": "71b074ee-95ca-4172-82c7-b00dc77c2bad",
   "metadata": {},
   "source": [
    "#### DETECTING OUTLIERS USING INTERQUATILE RANGE (IQR)"
   ]
  },
  {
   "cell_type": "markdown",
   "id": "6116c9d6-309b-4080-b89c-22f3c5fedd0a",
   "metadata": {},
   "source": [
    "#### What are percentiles ?"
   ]
  },
  {
   "cell_type": "raw",
   "id": "5d624bc6-dce3-46f3-9b1d-e8282a940643",
   "metadata": {},
   "source": [
    "Percentile divides data into 100 equal parts:\n",
    "\n",
    "1. 25th percentile (Q1): 25% of data falls below this point.\n",
    "2. 50th percentile (Q2): The median, where 50% of the data falls below.\n",
    "3. 75th percentile (Q3): 75% of the data falls below this point."
   ]
  },
  {
   "cell_type": "markdown",
   "id": "dbb82d52-7356-4b60-a07b-c3f7cac183c6",
   "metadata": {},
   "source": [
    "#### 1. Interquartile Range (IQR)"
   ]
  },
  {
   "cell_type": "raw",
   "id": "f4917967-16fc-46f7-bced-fa26d5351762",
   "metadata": {},
   "source": [
    "The interquartile Range (IQR) is the range between the 25th percentile (Q1) and the 75th percentile (Q3). It captures the middle 50% of the data:\n"
   ]
  },
  {
   "cell_type": "markdown",
   "id": "c4e1dc62-2a81-48a3-9a73-8487da986778",
   "metadata": {},
   "source": [
    "##### interquatile Range (IQR) = Q3 - Q1"
   ]
  },
  {
   "cell_type": "markdown",
   "id": "bdc4de8f-d47d-4dc8-b30b-abc15cd42a03",
   "metadata": {},
   "source": [
    "##### To get Q1: We find the position;\n",
    "\n",
    "##### Position = 25 / 100 x (n + 1)"
   ]
  },
  {
   "cell_type": "markdown",
   "id": "c6078b0d-6804-41fb-a923-0e852ed420cf",
   "metadata": {},
   "source": [
    "#### 2. Outlier Detection using IQR"
   ]
  },
  {
   "cell_type": "raw",
   "id": "b6c3d2a0-323a-4ebb-b14b-f6a0209fb939",
   "metadata": {},
   "source": [
    "Outliers are values that fall outside this range\n",
    "\n",
    "1. Lower Bound: (Q1 - 1.5{QR})\n",
    "2. Upper Bound: (Q3 + 1.5{QR})\n",
    "\n",
    "values below the Lower Bound or above the Upper Bound are considered outliers."
   ]
  },
  {
   "cell_type": "markdown",
   "id": "3f0b7ede-8d25-4f47-85ae-b40c40b0e356",
   "metadata": {},
   "source": [
    "##### Example"
   ]
  },
  {
   "cell_type": "raw",
   "id": "d329f792-84ec-47ee-99bb-70d99e2053dc",
   "metadata": {},
   "source": [
    "For data [10,20,30,40,50,60,1000]:\n",
    "\n",
    "* Q1 = 20, Q3 = 60, so IQR = 40.\n",
    "* Lowwer Bound: ( 20 - 1.5\\times 40 = -40) (no low outliers).\n",
    "* Upper Bound: (60 + 1.5\\times 40 = 120)   (1000 is high outlier).\n",
    "\n",
    "Using this method 1000 is an outlier, since it is below the lower Bound (-40) and above the upper Bound (1000). "
   ]
  },
  {
   "cell_type": "code",
   "execution_count": 37,
   "id": "2a1e9705-4f49-49c7-825c-c01c338e39e9",
   "metadata": {},
   "outputs": [],
   "source": [
    "# Calculating Q1 (25th percentile) and Q3 (75th percentile)\n",
    "\n",
    "Q1 = df_outliers['Salary'].quantile(0.25)   # Calculating for the First quartile.\n",
    "\n",
    "Q3 = df_outliers['Salary'].quantile(0.75)   # Caculating for the Third quatile.\n",
    "\n",
    "IQR = Q3 - Q1 # Checking for interquatile range\n",
    "\n",
    "# Define the Lower and Upper bounds for detecting outliers\n",
    "lower_bound = Q1 - 1.5 * IQR\n",
    "upper_bound = Q3 + 1.5 * IQR"
   ]
  },
  {
   "cell_type": "code",
   "execution_count": 38,
   "id": "2a877412-b7ce-4609-b075-c4de0bf9be3c",
   "metadata": {},
   "outputs": [
    {
     "data": {
      "text/plain": [
       "np.float64(60000.0)"
      ]
     },
     "execution_count": 38,
     "metadata": {},
     "output_type": "execute_result"
    }
   ],
   "source": [
    "Q1"
   ]
  },
  {
   "cell_type": "code",
   "execution_count": 39,
   "id": "72f24b02-6a5b-444e-9f66-22131f35a0a7",
   "metadata": {},
   "outputs": [
    {
     "data": {
      "text/plain": [
       "np.float64(75000.0)"
      ]
     },
     "execution_count": 39,
     "metadata": {},
     "output_type": "execute_result"
    }
   ],
   "source": [
    "Q3"
   ]
  },
  {
   "cell_type": "code",
   "execution_count": 40,
   "id": "262e246f-d0cd-42ee-86ea-d8d92b9d46f0",
   "metadata": {},
   "outputs": [
    {
     "data": {
      "text/plain": [
       "np.float64(15000.0)"
      ]
     },
     "execution_count": 40,
     "metadata": {},
     "output_type": "execute_result"
    }
   ],
   "source": [
    "IQR"
   ]
  },
  {
   "cell_type": "markdown",
   "id": "f5f273d1-a5e9-4ca1-a4ec-efe304a9b0b6",
   "metadata": {},
   "source": [
    "#### Decting Outliers Using the IQR Method."
   ]
  },
  {
   "cell_type": "raw",
   "id": "86dd7733-8a2f-4ff2-a924-d8949277caeb",
   "metadata": {},
   "source": [
    "We now dectect outlierss by checking if values fall outside the lower and upper bounds derived from the IQR."
   ]
  },
  {
   "cell_type": "code",
   "execution_count": 35,
   "id": "c16ccd56-64c0-4d5c-887b-f841a5175e0e",
   "metadata": {},
   "outputs": [
    {
     "name": "stdout",
     "output_type": "stream",
     "text": [
      "    Name   Salary\n",
      "3  David  1000000\n"
     ]
    }
   ],
   "source": [
    "# Detect outlier values outside the lower and upper bounds\n",
    "outliers_iqr = df_outliers[(df_outliers['Salary'] < lower_bound) | (df_outliers['Salary'] > upper_bound)]\n",
    "print(outliers_iqr)"
   ]
  },
  {
   "cell_type": "markdown",
   "id": "4c83413b-1875-46c4-b991-8e1cd3e2270d",
   "metadata": {},
   "source": [
    "#### Decting Outliers Using Standard Deviation"
   ]
  },
  {
   "cell_type": "raw",
   "id": "a971833e-0521-45f2-ab1e-c38758a73da7",
   "metadata": {},
   "source": [
    "In this method, values that are more than a certain number of standard deviations away from the mean are considered outliers.\n",
    "Typically, 3 standard deviation is used as a threshold."
   ]
  },
  {
   "cell_type": "code",
   "execution_count": 42,
   "id": "4e91e867-b983-4a37-abce-2ccc7c0fdb6b",
   "metadata": {},
   "outputs": [],
   "source": [
    "# calculate the mean and standard deviations of the salary column \n",
    "mean_salary = df_outliers['Salary'].mean()\n",
    "std_salary = df_outliers['Salary'].std()\n",
    "\n",
    "# Defining the threshold for outliers (which is 3 standard deviation from the mean)\n",
    "std_threshold = 1\n",
    "\n",
    "# Having established our condition for determining our outlier, which is the 'mean', 'standard deviation' and setting our threshood at '1'.\n",
    "# we can now proceed to checking out for the outlier in the 'salary' data set."
   ]
  },
  {
   "cell_type": "code",
   "execution_count": 44,
   "id": "20bba647-1778-448d-8588-e59ec7ef7a4f",
   "metadata": {},
   "outputs": [
    {
     "name": "stdout",
     "output_type": "stream",
     "text": [
      "\n",
      "Outliers detected using Standard Deviation:\n",
      "    Name   Salary\n",
      "3  David  1000000\n"
     ]
    }
   ],
   "source": [
    "# Detecting Outliers using values that are more than 3 standard deviation away from the mean\n",
    "\n",
    "outliers_std = df_outliers[np.abs(df_outliers['Salary'] - mean_salary) > std_threshold * std_salary]\n",
    "\n",
    "print(\"\\nOutliers detected using Standard Deviation:\")\n",
    "print(outliers_std)"
   ]
  },
  {
   "cell_type": "markdown",
   "id": "da5b5f68-5b46-4c58-87ea-2ae219d95a33",
   "metadata": {},
   "source": [
    "#### Handling Outliers Detected by IQR"
   ]
  },
  {
   "cell_type": "raw",
   "id": "e91f4845-da74-4c0f-aec4-8fcaa55211ac",
   "metadata": {},
   "source": [
    "We can handle the outliers by capping the outliers at the lower or upper bounds. This means replacing values below the lower\n",
    "bound with the lower bound and values above the upper bound with the upper bound."
   ]
  },
  {
   "cell_type": "code",
   "execution_count": 51,
   "id": "40356220-7424-46ac-be61-68a501a906da",
   "metadata": {},
   "outputs": [],
   "source": [
    "# capping the outliers by replacing values that are above the upper bounds or below the lower bound\n",
    "df_outliers['Salary_IQR_capped'] = np.where(df_outliers['Salary'] > upper_bound, upper_bound,\n",
    "                                            np.where(df_outliers['Salary'] < lower_bound, lower_bound, df_outliers['Salary']))"
   ]
  },
  {
   "cell_type": "code",
   "execution_count": 52,
   "id": "ddcf1ebb-0ebe-43aa-bc70-f059b05f11c6",
   "metadata": {},
   "outputs": [
    {
     "data": {
      "text/plain": [
       "0    50000.0\n",
       "1    60000.0\n",
       "2    70000.0\n",
       "3    97500.0\n",
       "4    75000.0\n",
       "Name: Salary_IQR_capped, dtype: float64"
      ]
     },
     "execution_count": 52,
     "metadata": {},
     "output_type": "execute_result"
    }
   ],
   "source": [
    "df_outliers['Salary_IQR_capped']"
   ]
  },
  {
   "cell_type": "markdown",
   "id": "0476914f-bc9d-4ddd-9022-3347a2cc891d",
   "metadata": {},
   "source": [
    "#### Calculating Bounds"
   ]
  },
  {
   "cell_type": "raw",
   "id": "5bf71a94-1175-4f25-80a0-6f6c462a9644",
   "metadata": {},
   "source": [
    "* Lower Bound: [Q1 - 1.5 x IQR = 60000 - 1.5 x 15000 = 60000 - 22500 = 37500]\n",
    "* Upper Bound: [Q3 + 1.5 x IQR = 75000 + 1.5 x 15000 = 75000 - 22500 = 97500]"
   ]
  },
  {
   "cell_type": "markdown",
   "id": "b05496b8-8da9-4baf-94fa-d771a96b3210",
   "metadata": {},
   "source": [
    "## FEATURE ENGINEERING"
   ]
  },
  {
   "cell_type": "code",
   "execution_count": 89,
   "id": "04384967-7479-426f-8427-c970573c3ecb",
   "metadata": {},
   "outputs": [
    {
     "name": "stdout",
     "output_type": "stream",
     "text": [
      "<class 'pandas.core.frame.DataFrame'>\n",
      "RangeIndex: 24326 entries, 0 to 24325\n",
      "Data columns (total 8 columns):\n",
      " #   Column         Non-Null Count  Dtype  \n",
      "---  ------         --------------  -----  \n",
      " 0   bedrooms       24326 non-null  int64  \n",
      " 1   bathrooms      24326 non-null  int64  \n",
      " 2   toilets        24326 non-null  int64  \n",
      " 3   parking_space  24326 non-null  int64  \n",
      " 4   title          24325 non-null  object \n",
      " 5   town           24325 non-null  object \n",
      " 6   state          24325 non-null  object \n",
      " 7   price          24318 non-null  float64\n",
      "dtypes: float64(1), int64(4), object(3)\n",
      "memory usage: 1.5+ MB\n"
     ]
    }
   ],
   "source": [
    "nigeria_houses = pd.read_csv(\"nigeria_houses_data.csv\")\n",
    "nigeria_houses.info()"
   ]
  },
  {
   "cell_type": "markdown",
   "id": "e48dec83-af6f-48d1-a612-30fffae56a20",
   "metadata": {},
   "source": [
    "#### Feature Engineering\n",
    "##### Definition"
   ]
  },
  {
   "cell_type": "markdown",
   "id": "b656eb10-c8b2-4d68-9cb7-06e068ac3b70",
   "metadata": {},
   "source": [
    "Feature engineering is the  process of transforming raw data into meaningful input features that improves the performance of Machine learning models."
   ]
  },
  {
   "cell_type": "markdown",
   "id": "d0a4ad83-f429-460c-84d0-30acfbce0b87",
   "metadata": {},
   "source": [
    "##### Explanation:"
   ]
  },
  {
   "cell_type": "markdown",
   "id": "9bdb86e0-7bab-4734-813a-84a5eaf1348f",
   "metadata": {},
   "source": [
    "##### It involves creating, modifying, or selecting the most relevant features from the dataset. common techniques includes:\n",
    "\n",
    "1. Handling missing values (e.g imputation or Deletion).\n",
    "2. Encoding categorical variables (e.g one-hot encoding or get_dummies method).\n",
    "3. Scaling numerical values (e.g normalization).\n",
    "4. creating new features (e.g aggregation, ratios).\n",
    "5. Removing irrelivant or redundant features.\n",
    "\n",
    "##### Good feature engineering can significantly enhance model accuracy and efficency.\n"
   ]
  },
  {
   "cell_type": "markdown",
   "id": "99b76611-369d-4838-af28-f392ebe9bdac",
   "metadata": {},
   "source": [
    "#### Spliting Features and Target Variable"
   ]
  },
  {
   "cell_type": "markdown",
   "id": "08e2c05b-625d-45a1-b1b3-f2713255caf6",
   "metadata": {},
   "source": [
    "When preparing data for machine learning, it's important to the features (independent variables) from the target variable (dependent variable).\n",
    "This step ensures that the model has the correct input data (features) and the correct output to predict (target).\n",
    "\n",
    "**Features:** These are the input variables that the model uses to learn patterns and make predictions. In the code , x = nigeria_houses.drop(\"price\", axis=1) removes the \"price\" column from the nigeria_houses DataFrame, leaving the remaining column as features, stored in x.\n",
    "\n",
    "**Target Variable:** This is the output variables that the model aims to predict. In the code, y = nigeria_houses[\"price\"] selects the \"price\" column from the DataFrame and stores it in y, making it the target variable. "
   ]
  },
  {
   "cell_type": "markdown",
   "id": "c1697b86-e12e-4520-8b2c-4fa74c6f33d9",
   "metadata": {},
   "source": [
    "#### Code Explanation"
   ]
  },
  {
   "cell_type": "code",
   "execution_count": 90,
   "id": "1c02d5ba-4835-4312-93d9-5d7a4fc0434b",
   "metadata": {},
   "outputs": [],
   "source": [
    "x = nigeria_houses.drop(\"price\", axis=1) # Saparate the features from the target variable by removing the \"price\" column.\n",
    "y = nigeria_houses[\"price\"] # selects the \"price\" column as the target varaible"
   ]
  },
  {
   "cell_type": "code",
   "execution_count": 91,
   "id": "a568753c-213c-44b2-8bdc-88a9e6a2b16d",
   "metadata": {},
   "outputs": [
    {
     "data": {
      "text/html": [
       "<div>\n",
       "<style scoped>\n",
       "    .dataframe tbody tr th:only-of-type {\n",
       "        vertical-align: middle;\n",
       "    }\n",
       "\n",
       "    .dataframe tbody tr th {\n",
       "        vertical-align: top;\n",
       "    }\n",
       "\n",
       "    .dataframe thead th {\n",
       "        text-align: right;\n",
       "    }\n",
       "</style>\n",
       "<table border=\"1\" class=\"dataframe\">\n",
       "  <thead>\n",
       "    <tr style=\"text-align: right;\">\n",
       "      <th></th>\n",
       "      <th>bedrooms</th>\n",
       "      <th>bathrooms</th>\n",
       "      <th>toilets</th>\n",
       "      <th>parking_space</th>\n",
       "      <th>title</th>\n",
       "      <th>town</th>\n",
       "      <th>state</th>\n",
       "    </tr>\n",
       "  </thead>\n",
       "  <tbody>\n",
       "    <tr>\n",
       "      <th>0</th>\n",
       "      <td>6</td>\n",
       "      <td>5</td>\n",
       "      <td>5</td>\n",
       "      <td>4</td>\n",
       "      <td>Detached Duplex</td>\n",
       "      <td>Mabushi</td>\n",
       "      <td>Abuja</td>\n",
       "    </tr>\n",
       "    <tr>\n",
       "      <th>1</th>\n",
       "      <td>4</td>\n",
       "      <td>5</td>\n",
       "      <td>5</td>\n",
       "      <td>4</td>\n",
       "      <td>Terraced Duplexes</td>\n",
       "      <td>Katampe</td>\n",
       "      <td>Abuja</td>\n",
       "    </tr>\n",
       "    <tr>\n",
       "      <th>2</th>\n",
       "      <td>4</td>\n",
       "      <td>5</td>\n",
       "      <td>5</td>\n",
       "      <td>4</td>\n",
       "      <td>Detached Duplex</td>\n",
       "      <td>Lekki</td>\n",
       "      <td>Lagos</td>\n",
       "    </tr>\n",
       "    <tr>\n",
       "      <th>3</th>\n",
       "      <td>4</td>\n",
       "      <td>4</td>\n",
       "      <td>5</td>\n",
       "      <td>6</td>\n",
       "      <td>Detached Duplex</td>\n",
       "      <td>Ajah</td>\n",
       "      <td>Lagos</td>\n",
       "    </tr>\n",
       "    <tr>\n",
       "      <th>4</th>\n",
       "      <td>4</td>\n",
       "      <td>4</td>\n",
       "      <td>5</td>\n",
       "      <td>2</td>\n",
       "      <td>Semi Detached Duplex</td>\n",
       "      <td>Lekki</td>\n",
       "      <td>Lagos</td>\n",
       "    </tr>\n",
       "    <tr>\n",
       "      <th>...</th>\n",
       "      <td>...</td>\n",
       "      <td>...</td>\n",
       "      <td>...</td>\n",
       "      <td>...</td>\n",
       "      <td>...</td>\n",
       "      <td>...</td>\n",
       "      <td>...</td>\n",
       "    </tr>\n",
       "    <tr>\n",
       "      <th>24321</th>\n",
       "      <td>2</td>\n",
       "      <td>2</td>\n",
       "      <td>2</td>\n",
       "      <td>4</td>\n",
       "      <td>Block of Flats</td>\n",
       "      <td>Kabusa</td>\n",
       "      <td>Abuja</td>\n",
       "    </tr>\n",
       "    <tr>\n",
       "      <th>24322</th>\n",
       "      <td>4</td>\n",
       "      <td>5</td>\n",
       "      <td>5</td>\n",
       "      <td>4</td>\n",
       "      <td>Block of Flats</td>\n",
       "      <td>Ado-Odo/Ota</td>\n",
       "      <td>Ogun</td>\n",
       "    </tr>\n",
       "    <tr>\n",
       "      <th>24323</th>\n",
       "      <td>4</td>\n",
       "      <td>5</td>\n",
       "      <td>5</td>\n",
       "      <td>4</td>\n",
       "      <td>Detached Duplex</td>\n",
       "      <td>Lekki</td>\n",
       "      <td>Lagos</td>\n",
       "    </tr>\n",
       "    <tr>\n",
       "      <th>24324</th>\n",
       "      <td>3</td>\n",
       "      <td>4</td>\n",
       "      <td>4</td>\n",
       "      <td>3</td>\n",
       "      <td>Block of Flats</td>\n",
       "      <td>Victoria Island (VI)</td>\n",
       "      <td>Lagos</td>\n",
       "    </tr>\n",
       "    <tr>\n",
       "      <th>24325</th>\n",
       "      <td>4</td>\n",
       "      <td>5</td>\n",
       "      <td>5</td>\n",
       "      <td>4</td>\n",
       "      <td>Detached Duplex</td>\n",
       "      <td>Lekki</td>\n",
       "      <td>Lagos</td>\n",
       "    </tr>\n",
       "  </tbody>\n",
       "</table>\n",
       "<p>24326 rows × 7 columns</p>\n",
       "</div>"
      ],
      "text/plain": [
       "       bedrooms  bathrooms  toilets  parking_space                 title  \\\n",
       "0             6          5        5              4       Detached Duplex   \n",
       "1             4          5        5              4     Terraced Duplexes   \n",
       "2             4          5        5              4       Detached Duplex   \n",
       "3             4          4        5              6       Detached Duplex   \n",
       "4             4          4        5              2  Semi Detached Duplex   \n",
       "...         ...        ...      ...            ...                   ...   \n",
       "24321         2          2        2              4        Block of Flats   \n",
       "24322         4          5        5              4        Block of Flats   \n",
       "24323         4          5        5              4       Detached Duplex   \n",
       "24324         3          4        4              3        Block of Flats   \n",
       "24325         4          5        5              4       Detached Duplex   \n",
       "\n",
       "                       town  state  \n",
       "0                   Mabushi  Abuja  \n",
       "1                   Katampe  Abuja  \n",
       "2                     Lekki  Lagos  \n",
       "3                      Ajah  Lagos  \n",
       "4                     Lekki  Lagos  \n",
       "...                     ...    ...  \n",
       "24321                Kabusa  Abuja  \n",
       "24322           Ado-Odo/Ota   Ogun  \n",
       "24323                 Lekki  Lagos  \n",
       "24324  Victoria Island (VI)  Lagos  \n",
       "24325                 Lekki  Lagos  \n",
       "\n",
       "[24326 rows x 7 columns]"
      ]
     },
     "execution_count": 91,
     "metadata": {},
     "output_type": "execute_result"
    }
   ],
   "source": [
    "# Calling the x variable which is the \"Features\" excluding the \"price\" column\n",
    "x"
   ]
  },
  {
   "cell_type": "code",
   "execution_count": 92,
   "id": "009328fe-3d13-4530-8316-d9892ce82d62",
   "metadata": {},
   "outputs": [],
   "source": [
    "x = nigeria_houses.drop(\"price\", axis=1)\n",
    "y = nigeria_houses[\"price\"]"
   ]
  },
  {
   "cell_type": "code",
   "execution_count": 93,
   "id": "5197a52c-fa65-44c5-97ec-f05464f1ad17",
   "metadata": {},
   "outputs": [
    {
     "data": {
      "text/plain": [
       "0    450000000.0\n",
       "1    800000000.0\n",
       "2    120000000.0\n",
       "3     40000000.0\n",
       "4     75000000.0\n",
       "Name: price, dtype: float64"
      ]
     },
     "execution_count": 93,
     "metadata": {},
     "output_type": "execute_result"
    }
   ],
   "source": [
    "# Calling the y variable which is the \"Target variable\" which is the \"price\" column.\n",
    "y.head()"
   ]
  },
  {
   "cell_type": "code",
   "execution_count": 82,
   "id": "f3123538-4c56-476c-8d79-fa3c163d7c05",
   "metadata": {},
   "outputs": [],
   "source": [
    "nigeria_houses = pd.read_csv(\"nigeria_houses_data.csv\")"
   ]
  },
  {
   "cell_type": "code",
   "execution_count": 94,
   "id": "59cdf608-01eb-45e3-a646-043b74a2f30f",
   "metadata": {},
   "outputs": [],
   "source": [
    "# converting the price column from \"price\" to \"price\" divided by 1 exponential 6 and storing the result in a new variable (column) 'price_millions'. \n",
    "nigeria_houses['price_millions'] = nigeria_houses['price'] / 1e6\n",
    "\n",
    "# dropping the old \"price\" column in replacement for the new \"price_millions\" column \n",
    "nigeria_houses.drop(columns=['price'], inplace=True)"
   ]
  },
  {
   "cell_type": "code",
   "execution_count": 95,
   "id": "ae73adb2-b51f-41ab-8d86-6169d0c7fa3f",
   "metadata": {},
   "outputs": [],
   "source": [
    "# Saparate the features from the target variable by removing the \"price_millions\" column.\n",
    "x = nigeria_houses.drop('price_millions', axis=1)\n",
    "\n",
    "# selecting the \"price_millions\" column as the target varaible.\n",
    "y = nigeria_houses['price_millions']"
   ]
  },
  {
   "cell_type": "code",
   "execution_count": 96,
   "id": "ba669fbc-8871-4e89-9b6a-ec45d7f619c3",
   "metadata": {},
   "outputs": [
    {
     "data": {
      "text/html": [
       "<div>\n",
       "<style scoped>\n",
       "    .dataframe tbody tr th:only-of-type {\n",
       "        vertical-align: middle;\n",
       "    }\n",
       "\n",
       "    .dataframe tbody tr th {\n",
       "        vertical-align: top;\n",
       "    }\n",
       "\n",
       "    .dataframe thead th {\n",
       "        text-align: right;\n",
       "    }\n",
       "</style>\n",
       "<table border=\"1\" class=\"dataframe\">\n",
       "  <thead>\n",
       "    <tr style=\"text-align: right;\">\n",
       "      <th></th>\n",
       "      <th>bedrooms</th>\n",
       "      <th>bathrooms</th>\n",
       "      <th>toilets</th>\n",
       "      <th>parking_space</th>\n",
       "      <th>title</th>\n",
       "      <th>town</th>\n",
       "      <th>state</th>\n",
       "    </tr>\n",
       "  </thead>\n",
       "  <tbody>\n",
       "    <tr>\n",
       "      <th>0</th>\n",
       "      <td>6</td>\n",
       "      <td>5</td>\n",
       "      <td>5</td>\n",
       "      <td>4</td>\n",
       "      <td>Detached Duplex</td>\n",
       "      <td>Mabushi</td>\n",
       "      <td>Abuja</td>\n",
       "    </tr>\n",
       "    <tr>\n",
       "      <th>1</th>\n",
       "      <td>4</td>\n",
       "      <td>5</td>\n",
       "      <td>5</td>\n",
       "      <td>4</td>\n",
       "      <td>Terraced Duplexes</td>\n",
       "      <td>Katampe</td>\n",
       "      <td>Abuja</td>\n",
       "    </tr>\n",
       "    <tr>\n",
       "      <th>2</th>\n",
       "      <td>4</td>\n",
       "      <td>5</td>\n",
       "      <td>5</td>\n",
       "      <td>4</td>\n",
       "      <td>Detached Duplex</td>\n",
       "      <td>Lekki</td>\n",
       "      <td>Lagos</td>\n",
       "    </tr>\n",
       "    <tr>\n",
       "      <th>3</th>\n",
       "      <td>4</td>\n",
       "      <td>4</td>\n",
       "      <td>5</td>\n",
       "      <td>6</td>\n",
       "      <td>Detached Duplex</td>\n",
       "      <td>Ajah</td>\n",
       "      <td>Lagos</td>\n",
       "    </tr>\n",
       "    <tr>\n",
       "      <th>4</th>\n",
       "      <td>4</td>\n",
       "      <td>4</td>\n",
       "      <td>5</td>\n",
       "      <td>2</td>\n",
       "      <td>Semi Detached Duplex</td>\n",
       "      <td>Lekki</td>\n",
       "      <td>Lagos</td>\n",
       "    </tr>\n",
       "  </tbody>\n",
       "</table>\n",
       "</div>"
      ],
      "text/plain": [
       "   bedrooms  bathrooms  toilets  parking_space                 title     town  \\\n",
       "0         6          5        5              4       Detached Duplex  Mabushi   \n",
       "1         4          5        5              4     Terraced Duplexes  Katampe   \n",
       "2         4          5        5              4       Detached Duplex    Lekki   \n",
       "3         4          4        5              6       Detached Duplex     Ajah   \n",
       "4         4          4        5              2  Semi Detached Duplex    Lekki   \n",
       "\n",
       "   state  \n",
       "0  Abuja  \n",
       "1  Abuja  \n",
       "2  Lagos  \n",
       "3  Lagos  \n",
       "4  Lagos  "
      ]
     },
     "execution_count": 96,
     "metadata": {},
     "output_type": "execute_result"
    }
   ],
   "source": [
    "# Calling the x variable which is now the \"Features\" excluding the \"price_million\" column\n",
    "x.head()"
   ]
  },
  {
   "cell_type": "code",
   "execution_count": 97,
   "id": "b642294f-68c9-4662-8b48-d2f35316dbde",
   "metadata": {},
   "outputs": [
    {
     "data": {
      "text/plain": [
       "0    450.0\n",
       "1    800.0\n",
       "2    120.0\n",
       "3     40.0\n",
       "4     75.0\n",
       "Name: price_millions, dtype: float64"
      ]
     },
     "execution_count": 97,
     "metadata": {},
     "output_type": "execute_result"
    }
   ],
   "source": [
    "# Calling the y variable which is now the \"Target variable\" which is the \"price_million\" column.\n",
    "y.head()"
   ]
  },
  {
   "cell_type": "markdown",
   "id": "5cf3b36b-3ad8-4422-b22f-380f2eef20a6",
   "metadata": {},
   "source": [
    "#### Importing Libraries for One-Hot-Encoding\n",
    "Before we can apply machine learning techniques, we need to ensure that the data is in the right format. One commmon preprocessing step is the \"one-hot encoding\", which is used to convert categorical data into format that can be feed to the machine learning algorithms.\n",
    "\n",
    "**sklearn Library:** The sklearn (or scikit-learn) library is a popular Python library for machine learning. It provides tools for\n",
    "1. Data Preprocessing\n",
    "2. Model Selection\n",
    "3. And various algorithms for classification, regression and more\n",
    "\n",
    "**One-Hot-Encoder:** The OneHotEncoder class from the sklearn.preprocessing is used to convert categorical features into a one-hot numerical format. This allows the model to work with categorical data by representing each category as a binary vector."
   ]
  },
  {
   "cell_type": "markdown",
   "id": "864c0861-4bb1-4e5d-b0f1-5b8a8d242430",
   "metadata": {},
   "source": [
    "#### Code Explanation"
   ]
  },
  {
   "cell_type": "code",
   "execution_count": 101,
   "id": "24b81ef3-9111-485b-81f3-06374a2b2caf",
   "metadata": {},
   "outputs": [],
   "source": [
    "# importing the sckit-learn Library\n",
    "import sklearn as sk\n",
    "\n",
    "# Imports the OneHotEncoder class for data preprocessing\n",
    "from sklearn.preprocessing import OneHotEncoder  "
   ]
  },
  {
   "cell_type": "code",
   "execution_count": 102,
   "id": "181b9b9e-7f98-4be4-8011-9ade12a84476",
   "metadata": {},
   "outputs": [],
   "source": [
    "from sklearn.compose import ColumnTransformer"
   ]
  },
  {
   "cell_type": "code",
   "execution_count": 103,
   "id": "8cdb9fe6-7e82-4bac-9571-b16b139cdfc6",
   "metadata": {},
   "outputs": [],
   "source": [
    "# selecting our categorical variables for transformation\n",
    "categorical_features = nigeria_houses.select_dtypes(include=['object']).columns.tolist()"
   ]
  },
  {
   "cell_type": "code",
   "execution_count": 105,
   "id": "58a057c0-ebd8-4074-a8c4-37b38a9adf2c",
   "metadata": {},
   "outputs": [
    {
     "data": {
      "text/plain": [
       "['title', 'town', 'state']"
      ]
     },
     "execution_count": 105,
     "metadata": {},
     "output_type": "execute_result"
    }
   ],
   "source": [
    "# calling the variable \"categorical_features\"\n",
    "categorical_features"
   ]
  },
  {
   "cell_type": "code",
   "execution_count": 106,
   "id": "4973cdb4-107c-4bde-824c-1025c6c9f582",
   "metadata": {},
   "outputs": [],
   "source": [
    "# Applying the \"one-hot\" encoding method in the transformation of our categorical variable.\n",
    "one_hot = OneHotEncoder()\n",
    "transformer = ColumnTransformer(\n",
    "    [(\"one_hot\", one_hot, categorical_features)],\n",
    "    remainder=\"passthrough\"\n",
    ")"
   ]
  },
  {
   "cell_type": "code",
   "execution_count": 107,
   "id": "62cffd15-5e29-42d8-9d75-d65a01cc5f6d",
   "metadata": {},
   "outputs": [],
   "source": [
    "transformed_x = transformer.fit_transform(x)  # The \"x\" here being the name of the name we gave to the variable housing our \"Features\" above. "
   ]
  },
  {
   "cell_type": "code",
   "execution_count": 108,
   "id": "0cc60203-44ba-49a3-a39f-2595dbde5a75",
   "metadata": {},
   "outputs": [
    {
     "data": {
      "text/plain": [
       "<Compressed Sparse Row sparse matrix of dtype 'float64'\n",
       "\twith 170282 stored elements and shape (24326, 228)>"
      ]
     },
     "execution_count": 108,
     "metadata": {},
     "output_type": "execute_result"
    }
   ],
   "source": [
    "# calling the variable used for storing our Transformed categorical variables\n",
    "transformed_x"
   ]
  },
  {
   "cell_type": "code",
   "execution_count": 109,
   "id": "a9f91024-e45d-433a-953c-002491e40024",
   "metadata": {},
   "outputs": [
    {
     "data": {
      "text/html": [
       "<div>\n",
       "<style scoped>\n",
       "    .dataframe tbody tr th:only-of-type {\n",
       "        vertical-align: middle;\n",
       "    }\n",
       "\n",
       "    .dataframe tbody tr th {\n",
       "        vertical-align: top;\n",
       "    }\n",
       "\n",
       "    .dataframe thead th {\n",
       "        text-align: right;\n",
       "    }\n",
       "</style>\n",
       "<table border=\"1\" class=\"dataframe\">\n",
       "  <thead>\n",
       "    <tr style=\"text-align: right;\">\n",
       "      <th></th>\n",
       "      <th>0</th>\n",
       "    </tr>\n",
       "  </thead>\n",
       "  <tbody>\n",
       "    <tr>\n",
       "      <th>0</th>\n",
       "      <td>&lt;Compressed Sparse Row sparse matrix of dtype ...</td>\n",
       "    </tr>\n",
       "    <tr>\n",
       "      <th>1</th>\n",
       "      <td>&lt;Compressed Sparse Row sparse matrix of dtype ...</td>\n",
       "    </tr>\n",
       "    <tr>\n",
       "      <th>2</th>\n",
       "      <td>&lt;Compressed Sparse Row sparse matrix of dtype ...</td>\n",
       "    </tr>\n",
       "    <tr>\n",
       "      <th>3</th>\n",
       "      <td>&lt;Compressed Sparse Row sparse matrix of dtype ...</td>\n",
       "    </tr>\n",
       "    <tr>\n",
       "      <th>4</th>\n",
       "      <td>&lt;Compressed Sparse Row sparse matrix of dtype ...</td>\n",
       "    </tr>\n",
       "    <tr>\n",
       "      <th>...</th>\n",
       "      <td>...</td>\n",
       "    </tr>\n",
       "    <tr>\n",
       "      <th>24321</th>\n",
       "      <td>&lt;Compressed Sparse Row sparse matrix of dtype ...</td>\n",
       "    </tr>\n",
       "    <tr>\n",
       "      <th>24322</th>\n",
       "      <td>&lt;Compressed Sparse Row sparse matrix of dtype ...</td>\n",
       "    </tr>\n",
       "    <tr>\n",
       "      <th>24323</th>\n",
       "      <td>&lt;Compressed Sparse Row sparse matrix of dtype ...</td>\n",
       "    </tr>\n",
       "    <tr>\n",
       "      <th>24324</th>\n",
       "      <td>&lt;Compressed Sparse Row sparse matrix of dtype ...</td>\n",
       "    </tr>\n",
       "    <tr>\n",
       "      <th>24325</th>\n",
       "      <td>&lt;Compressed Sparse Row sparse matrix of dtype ...</td>\n",
       "    </tr>\n",
       "  </tbody>\n",
       "</table>\n",
       "<p>24326 rows × 1 columns</p>\n",
       "</div>"
      ],
      "text/plain": [
       "                                                       0\n",
       "0      <Compressed Sparse Row sparse matrix of dtype ...\n",
       "1      <Compressed Sparse Row sparse matrix of dtype ...\n",
       "2      <Compressed Sparse Row sparse matrix of dtype ...\n",
       "3      <Compressed Sparse Row sparse matrix of dtype ...\n",
       "4      <Compressed Sparse Row sparse matrix of dtype ...\n",
       "...                                                  ...\n",
       "24321  <Compressed Sparse Row sparse matrix of dtype ...\n",
       "24322  <Compressed Sparse Row sparse matrix of dtype ...\n",
       "24323  <Compressed Sparse Row sparse matrix of dtype ...\n",
       "24324  <Compressed Sparse Row sparse matrix of dtype ...\n",
       "24325  <Compressed Sparse Row sparse matrix of dtype ...\n",
       "\n",
       "[24326 rows x 1 columns]"
      ]
     },
     "execution_count": 109,
     "metadata": {},
     "output_type": "execute_result"
    }
   ],
   "source": [
    "# Converting the transformed variable to a data frame\n",
    "pd.DataFrame(transformed_x)"
   ]
  },
  {
   "cell_type": "markdown",
   "id": "e2be7df5-8601-4ff3-9a50-55354cc935ad",
   "metadata": {},
   "source": [
    "#### METHOD 2\n",
    "\n",
    "The second method of categorical variables into machine learning algorithn format is the **get dummies** methos or format.\n",
    "this method will be applied on our previous example below:"
   ]
  },
  {
   "cell_type": "code",
   "execution_count": 111,
   "id": "67c6d725-1306-425a-b768-c4fdc44f8656",
   "metadata": {},
   "outputs": [
    {
     "data": {
      "text/html": [
       "<div>\n",
       "<style scoped>\n",
       "    .dataframe tbody tr th:only-of-type {\n",
       "        vertical-align: middle;\n",
       "    }\n",
       "\n",
       "    .dataframe tbody tr th {\n",
       "        vertical-align: top;\n",
       "    }\n",
       "\n",
       "    .dataframe thead th {\n",
       "        text-align: right;\n",
       "    }\n",
       "</style>\n",
       "<table border=\"1\" class=\"dataframe\">\n",
       "  <thead>\n",
       "    <tr style=\"text-align: right;\">\n",
       "      <th></th>\n",
       "      <th>title_Block of Flats</th>\n",
       "      <th>title_Detached Bungalow</th>\n",
       "      <th>title_Detached Duplex</th>\n",
       "      <th>title_Semi Detached Bungalow</th>\n",
       "      <th>title_Semi Detached Duplex</th>\n",
       "      <th>title_Terraced Bungalow</th>\n",
       "      <th>title_Terraced Duplexes</th>\n",
       "      <th>town_Aba</th>\n",
       "      <th>town_Abeokuta North</th>\n",
       "      <th>town_Abeokuta South</th>\n",
       "      <th>...</th>\n",
       "      <th>state_Kogi</th>\n",
       "      <th>state_Kwara</th>\n",
       "      <th>state_Lagos</th>\n",
       "      <th>state_Nasarawa</th>\n",
       "      <th>state_Niger</th>\n",
       "      <th>state_Ogun</th>\n",
       "      <th>state_Osun</th>\n",
       "      <th>state_Oyo</th>\n",
       "      <th>state_Plateau</th>\n",
       "      <th>state_Rivers</th>\n",
       "    </tr>\n",
       "  </thead>\n",
       "  <tbody>\n",
       "    <tr>\n",
       "      <th>0</th>\n",
       "      <td>False</td>\n",
       "      <td>False</td>\n",
       "      <td>True</td>\n",
       "      <td>False</td>\n",
       "      <td>False</td>\n",
       "      <td>False</td>\n",
       "      <td>False</td>\n",
       "      <td>False</td>\n",
       "      <td>False</td>\n",
       "      <td>False</td>\n",
       "      <td>...</td>\n",
       "      <td>False</td>\n",
       "      <td>False</td>\n",
       "      <td>False</td>\n",
       "      <td>False</td>\n",
       "      <td>False</td>\n",
       "      <td>False</td>\n",
       "      <td>False</td>\n",
       "      <td>False</td>\n",
       "      <td>False</td>\n",
       "      <td>False</td>\n",
       "    </tr>\n",
       "    <tr>\n",
       "      <th>1</th>\n",
       "      <td>False</td>\n",
       "      <td>False</td>\n",
       "      <td>False</td>\n",
       "      <td>False</td>\n",
       "      <td>False</td>\n",
       "      <td>False</td>\n",
       "      <td>True</td>\n",
       "      <td>False</td>\n",
       "      <td>False</td>\n",
       "      <td>False</td>\n",
       "      <td>...</td>\n",
       "      <td>False</td>\n",
       "      <td>False</td>\n",
       "      <td>False</td>\n",
       "      <td>False</td>\n",
       "      <td>False</td>\n",
       "      <td>False</td>\n",
       "      <td>False</td>\n",
       "      <td>False</td>\n",
       "      <td>False</td>\n",
       "      <td>False</td>\n",
       "    </tr>\n",
       "    <tr>\n",
       "      <th>2</th>\n",
       "      <td>False</td>\n",
       "      <td>False</td>\n",
       "      <td>True</td>\n",
       "      <td>False</td>\n",
       "      <td>False</td>\n",
       "      <td>False</td>\n",
       "      <td>False</td>\n",
       "      <td>False</td>\n",
       "      <td>False</td>\n",
       "      <td>False</td>\n",
       "      <td>...</td>\n",
       "      <td>False</td>\n",
       "      <td>False</td>\n",
       "      <td>True</td>\n",
       "      <td>False</td>\n",
       "      <td>False</td>\n",
       "      <td>False</td>\n",
       "      <td>False</td>\n",
       "      <td>False</td>\n",
       "      <td>False</td>\n",
       "      <td>False</td>\n",
       "    </tr>\n",
       "    <tr>\n",
       "      <th>3</th>\n",
       "      <td>False</td>\n",
       "      <td>False</td>\n",
       "      <td>True</td>\n",
       "      <td>False</td>\n",
       "      <td>False</td>\n",
       "      <td>False</td>\n",
       "      <td>False</td>\n",
       "      <td>False</td>\n",
       "      <td>False</td>\n",
       "      <td>False</td>\n",
       "      <td>...</td>\n",
       "      <td>False</td>\n",
       "      <td>False</td>\n",
       "      <td>True</td>\n",
       "      <td>False</td>\n",
       "      <td>False</td>\n",
       "      <td>False</td>\n",
       "      <td>False</td>\n",
       "      <td>False</td>\n",
       "      <td>False</td>\n",
       "      <td>False</td>\n",
       "    </tr>\n",
       "    <tr>\n",
       "      <th>4</th>\n",
       "      <td>False</td>\n",
       "      <td>False</td>\n",
       "      <td>False</td>\n",
       "      <td>False</td>\n",
       "      <td>True</td>\n",
       "      <td>False</td>\n",
       "      <td>False</td>\n",
       "      <td>False</td>\n",
       "      <td>False</td>\n",
       "      <td>False</td>\n",
       "      <td>...</td>\n",
       "      <td>False</td>\n",
       "      <td>False</td>\n",
       "      <td>True</td>\n",
       "      <td>False</td>\n",
       "      <td>False</td>\n",
       "      <td>False</td>\n",
       "      <td>False</td>\n",
       "      <td>False</td>\n",
       "      <td>False</td>\n",
       "      <td>False</td>\n",
       "    </tr>\n",
       "  </tbody>\n",
       "</table>\n",
       "<p>5 rows × 221 columns</p>\n",
       "</div>"
      ],
      "text/plain": [
       "   title_Block of Flats  title_Detached Bungalow  title_Detached Duplex  \\\n",
       "0                 False                    False                   True   \n",
       "1                 False                    False                  False   \n",
       "2                 False                    False                   True   \n",
       "3                 False                    False                   True   \n",
       "4                 False                    False                  False   \n",
       "\n",
       "   title_Semi Detached Bungalow  title_Semi Detached Duplex  \\\n",
       "0                         False                       False   \n",
       "1                         False                       False   \n",
       "2                         False                       False   \n",
       "3                         False                       False   \n",
       "4                         False                        True   \n",
       "\n",
       "   title_Terraced Bungalow  title_Terraced Duplexes  town_Aba  \\\n",
       "0                    False                    False     False   \n",
       "1                    False                     True     False   \n",
       "2                    False                    False     False   \n",
       "3                    False                    False     False   \n",
       "4                    False                    False     False   \n",
       "\n",
       "   town_Abeokuta North  town_Abeokuta South  ...  state_Kogi  state_Kwara  \\\n",
       "0                False                False  ...       False        False   \n",
       "1                False                False  ...       False        False   \n",
       "2                False                False  ...       False        False   \n",
       "3                False                False  ...       False        False   \n",
       "4                False                False  ...       False        False   \n",
       "\n",
       "   state_Lagos  state_Nasarawa  state_Niger  state_Ogun  state_Osun  \\\n",
       "0        False           False        False       False       False   \n",
       "1        False           False        False       False       False   \n",
       "2         True           False        False       False       False   \n",
       "3         True           False        False       False       False   \n",
       "4         True           False        False       False       False   \n",
       "\n",
       "   state_Oyo  state_Plateau  state_Rivers  \n",
       "0      False          False         False  \n",
       "1      False          False         False  \n",
       "2      False          False         False  \n",
       "3      False          False         False  \n",
       "4      False          False         False  \n",
       "\n",
       "[5 rows x 221 columns]"
      ]
     },
     "execution_count": 111,
     "metadata": {},
     "output_type": "execute_result"
    }
   ],
   "source": [
    "dummies = pd.get_dummies(nigeria_houses[[\"title\",\"town\",\"state\"]]) # selecting our categorical variables using another method i.e calling the names\n",
    "                                                                # of the columns housing the categorical variables individually. and subsequently\n",
    "                                                                # converting then to machine format using the \".get_dummies()\" function.\n",
    "\n",
    "# calling our \"dummies\" variable with the \".head()\" function\n",
    "dummies.head()\n"
   ]
  },
  {
   "cell_type": "code",
   "execution_count": 112,
   "id": "f001e62f-0b3f-49f6-9507-83dfc5367a06",
   "metadata": {},
   "outputs": [],
   "source": [
    "dummies = pd.get_dummies(nigeria_houses[[\"title\",\"town\",\"state\"]])\n",
    "\n",
    "# converting the output from the \".get_dummies()\" function, from booleon i.e True, False to 0, 1 inteager\n",
    "dummies = dummies.astype(int)"
   ]
  },
  {
   "cell_type": "code",
   "execution_count": 113,
   "id": "15985dde-c271-4513-9d73-43a28aaf0da6",
   "metadata": {},
   "outputs": [
    {
     "data": {
      "text/html": [
       "<div>\n",
       "<style scoped>\n",
       "    .dataframe tbody tr th:only-of-type {\n",
       "        vertical-align: middle;\n",
       "    }\n",
       "\n",
       "    .dataframe tbody tr th {\n",
       "        vertical-align: top;\n",
       "    }\n",
       "\n",
       "    .dataframe thead th {\n",
       "        text-align: right;\n",
       "    }\n",
       "</style>\n",
       "<table border=\"1\" class=\"dataframe\">\n",
       "  <thead>\n",
       "    <tr style=\"text-align: right;\">\n",
       "      <th></th>\n",
       "      <th>title_Block of Flats</th>\n",
       "      <th>title_Detached Bungalow</th>\n",
       "      <th>title_Detached Duplex</th>\n",
       "      <th>title_Semi Detached Bungalow</th>\n",
       "      <th>title_Semi Detached Duplex</th>\n",
       "      <th>title_Terraced Bungalow</th>\n",
       "      <th>title_Terraced Duplexes</th>\n",
       "      <th>town_Aba</th>\n",
       "      <th>town_Abeokuta North</th>\n",
       "      <th>town_Abeokuta South</th>\n",
       "      <th>...</th>\n",
       "      <th>state_Kogi</th>\n",
       "      <th>state_Kwara</th>\n",
       "      <th>state_Lagos</th>\n",
       "      <th>state_Nasarawa</th>\n",
       "      <th>state_Niger</th>\n",
       "      <th>state_Ogun</th>\n",
       "      <th>state_Osun</th>\n",
       "      <th>state_Oyo</th>\n",
       "      <th>state_Plateau</th>\n",
       "      <th>state_Rivers</th>\n",
       "    </tr>\n",
       "  </thead>\n",
       "  <tbody>\n",
       "    <tr>\n",
       "      <th>0</th>\n",
       "      <td>0</td>\n",
       "      <td>0</td>\n",
       "      <td>1</td>\n",
       "      <td>0</td>\n",
       "      <td>0</td>\n",
       "      <td>0</td>\n",
       "      <td>0</td>\n",
       "      <td>0</td>\n",
       "      <td>0</td>\n",
       "      <td>0</td>\n",
       "      <td>...</td>\n",
       "      <td>0</td>\n",
       "      <td>0</td>\n",
       "      <td>0</td>\n",
       "      <td>0</td>\n",
       "      <td>0</td>\n",
       "      <td>0</td>\n",
       "      <td>0</td>\n",
       "      <td>0</td>\n",
       "      <td>0</td>\n",
       "      <td>0</td>\n",
       "    </tr>\n",
       "    <tr>\n",
       "      <th>1</th>\n",
       "      <td>0</td>\n",
       "      <td>0</td>\n",
       "      <td>0</td>\n",
       "      <td>0</td>\n",
       "      <td>0</td>\n",
       "      <td>0</td>\n",
       "      <td>1</td>\n",
       "      <td>0</td>\n",
       "      <td>0</td>\n",
       "      <td>0</td>\n",
       "      <td>...</td>\n",
       "      <td>0</td>\n",
       "      <td>0</td>\n",
       "      <td>0</td>\n",
       "      <td>0</td>\n",
       "      <td>0</td>\n",
       "      <td>0</td>\n",
       "      <td>0</td>\n",
       "      <td>0</td>\n",
       "      <td>0</td>\n",
       "      <td>0</td>\n",
       "    </tr>\n",
       "    <tr>\n",
       "      <th>2</th>\n",
       "      <td>0</td>\n",
       "      <td>0</td>\n",
       "      <td>1</td>\n",
       "      <td>0</td>\n",
       "      <td>0</td>\n",
       "      <td>0</td>\n",
       "      <td>0</td>\n",
       "      <td>0</td>\n",
       "      <td>0</td>\n",
       "      <td>0</td>\n",
       "      <td>...</td>\n",
       "      <td>0</td>\n",
       "      <td>0</td>\n",
       "      <td>1</td>\n",
       "      <td>0</td>\n",
       "      <td>0</td>\n",
       "      <td>0</td>\n",
       "      <td>0</td>\n",
       "      <td>0</td>\n",
       "      <td>0</td>\n",
       "      <td>0</td>\n",
       "    </tr>\n",
       "    <tr>\n",
       "      <th>3</th>\n",
       "      <td>0</td>\n",
       "      <td>0</td>\n",
       "      <td>1</td>\n",
       "      <td>0</td>\n",
       "      <td>0</td>\n",
       "      <td>0</td>\n",
       "      <td>0</td>\n",
       "      <td>0</td>\n",
       "      <td>0</td>\n",
       "      <td>0</td>\n",
       "      <td>...</td>\n",
       "      <td>0</td>\n",
       "      <td>0</td>\n",
       "      <td>1</td>\n",
       "      <td>0</td>\n",
       "      <td>0</td>\n",
       "      <td>0</td>\n",
       "      <td>0</td>\n",
       "      <td>0</td>\n",
       "      <td>0</td>\n",
       "      <td>0</td>\n",
       "    </tr>\n",
       "    <tr>\n",
       "      <th>4</th>\n",
       "      <td>0</td>\n",
       "      <td>0</td>\n",
       "      <td>0</td>\n",
       "      <td>0</td>\n",
       "      <td>1</td>\n",
       "      <td>0</td>\n",
       "      <td>0</td>\n",
       "      <td>0</td>\n",
       "      <td>0</td>\n",
       "      <td>0</td>\n",
       "      <td>...</td>\n",
       "      <td>0</td>\n",
       "      <td>0</td>\n",
       "      <td>1</td>\n",
       "      <td>0</td>\n",
       "      <td>0</td>\n",
       "      <td>0</td>\n",
       "      <td>0</td>\n",
       "      <td>0</td>\n",
       "      <td>0</td>\n",
       "      <td>0</td>\n",
       "    </tr>\n",
       "  </tbody>\n",
       "</table>\n",
       "<p>5 rows × 221 columns</p>\n",
       "</div>"
      ],
      "text/plain": [
       "   title_Block of Flats  title_Detached Bungalow  title_Detached Duplex  \\\n",
       "0                     0                        0                      1   \n",
       "1                     0                        0                      0   \n",
       "2                     0                        0                      1   \n",
       "3                     0                        0                      1   \n",
       "4                     0                        0                      0   \n",
       "\n",
       "   title_Semi Detached Bungalow  title_Semi Detached Duplex  \\\n",
       "0                             0                           0   \n",
       "1                             0                           0   \n",
       "2                             0                           0   \n",
       "3                             0                           0   \n",
       "4                             0                           1   \n",
       "\n",
       "   title_Terraced Bungalow  title_Terraced Duplexes  town_Aba  \\\n",
       "0                        0                        0         0   \n",
       "1                        0                        1         0   \n",
       "2                        0                        0         0   \n",
       "3                        0                        0         0   \n",
       "4                        0                        0         0   \n",
       "\n",
       "   town_Abeokuta North  town_Abeokuta South  ...  state_Kogi  state_Kwara  \\\n",
       "0                    0                    0  ...           0            0   \n",
       "1                    0                    0  ...           0            0   \n",
       "2                    0                    0  ...           0            0   \n",
       "3                    0                    0  ...           0            0   \n",
       "4                    0                    0  ...           0            0   \n",
       "\n",
       "   state_Lagos  state_Nasarawa  state_Niger  state_Ogun  state_Osun  \\\n",
       "0            0               0            0           0           0   \n",
       "1            0               0            0           0           0   \n",
       "2            1               0            0           0           0   \n",
       "3            1               0            0           0           0   \n",
       "4            1               0            0           0           0   \n",
       "\n",
       "   state_Oyo  state_Plateau  state_Rivers  \n",
       "0          0              0             0  \n",
       "1          0              0             0  \n",
       "2          0              0             0  \n",
       "3          0              0             0  \n",
       "4          0              0             0  \n",
       "\n",
       "[5 rows x 221 columns]"
      ]
     },
     "execution_count": 113,
     "metadata": {},
     "output_type": "execute_result"
    }
   ],
   "source": [
    "# calling our newly converted dummies with the .head() function\n",
    "dummies.head()"
   ]
  },
  {
   "cell_type": "code",
   "execution_count": 114,
   "id": "b372ac3c-be94-43a3-baee-06acbed7f22d",
   "metadata": {},
   "outputs": [
    {
     "data": {
      "text/html": [
       "<div>\n",
       "<style scoped>\n",
       "    .dataframe tbody tr th:only-of-type {\n",
       "        vertical-align: middle;\n",
       "    }\n",
       "\n",
       "    .dataframe tbody tr th {\n",
       "        vertical-align: top;\n",
       "    }\n",
       "\n",
       "    .dataframe thead th {\n",
       "        text-align: right;\n",
       "    }\n",
       "</style>\n",
       "<table border=\"1\" class=\"dataframe\">\n",
       "  <thead>\n",
       "    <tr style=\"text-align: right;\">\n",
       "      <th></th>\n",
       "      <th>bedrooms</th>\n",
       "      <th>bathrooms</th>\n",
       "      <th>toilets</th>\n",
       "      <th>parking_space</th>\n",
       "      <th>title</th>\n",
       "      <th>town</th>\n",
       "      <th>state</th>\n",
       "      <th>price_millions</th>\n",
       "    </tr>\n",
       "  </thead>\n",
       "  <tbody>\n",
       "    <tr>\n",
       "      <th>0</th>\n",
       "      <td>6</td>\n",
       "      <td>5</td>\n",
       "      <td>5</td>\n",
       "      <td>4</td>\n",
       "      <td>Detached Duplex</td>\n",
       "      <td>Mabushi</td>\n",
       "      <td>Abuja</td>\n",
       "      <td>450.0</td>\n",
       "    </tr>\n",
       "    <tr>\n",
       "      <th>1</th>\n",
       "      <td>4</td>\n",
       "      <td>5</td>\n",
       "      <td>5</td>\n",
       "      <td>4</td>\n",
       "      <td>Terraced Duplexes</td>\n",
       "      <td>Katampe</td>\n",
       "      <td>Abuja</td>\n",
       "      <td>800.0</td>\n",
       "    </tr>\n",
       "    <tr>\n",
       "      <th>2</th>\n",
       "      <td>4</td>\n",
       "      <td>5</td>\n",
       "      <td>5</td>\n",
       "      <td>4</td>\n",
       "      <td>Detached Duplex</td>\n",
       "      <td>Lekki</td>\n",
       "      <td>Lagos</td>\n",
       "      <td>120.0</td>\n",
       "    </tr>\n",
       "    <tr>\n",
       "      <th>3</th>\n",
       "      <td>4</td>\n",
       "      <td>4</td>\n",
       "      <td>5</td>\n",
       "      <td>6</td>\n",
       "      <td>Detached Duplex</td>\n",
       "      <td>Ajah</td>\n",
       "      <td>Lagos</td>\n",
       "      <td>40.0</td>\n",
       "    </tr>\n",
       "    <tr>\n",
       "      <th>4</th>\n",
       "      <td>4</td>\n",
       "      <td>4</td>\n",
       "      <td>5</td>\n",
       "      <td>2</td>\n",
       "      <td>Semi Detached Duplex</td>\n",
       "      <td>Lekki</td>\n",
       "      <td>Lagos</td>\n",
       "      <td>75.0</td>\n",
       "    </tr>\n",
       "    <tr>\n",
       "      <th>...</th>\n",
       "      <td>...</td>\n",
       "      <td>...</td>\n",
       "      <td>...</td>\n",
       "      <td>...</td>\n",
       "      <td>...</td>\n",
       "      <td>...</td>\n",
       "      <td>...</td>\n",
       "      <td>...</td>\n",
       "    </tr>\n",
       "    <tr>\n",
       "      <th>24321</th>\n",
       "      <td>2</td>\n",
       "      <td>2</td>\n",
       "      <td>2</td>\n",
       "      <td>4</td>\n",
       "      <td>Block of Flats</td>\n",
       "      <td>Kabusa</td>\n",
       "      <td>Abuja</td>\n",
       "      <td>15.0</td>\n",
       "    </tr>\n",
       "    <tr>\n",
       "      <th>24322</th>\n",
       "      <td>4</td>\n",
       "      <td>5</td>\n",
       "      <td>5</td>\n",
       "      <td>4</td>\n",
       "      <td>Block of Flats</td>\n",
       "      <td>Ado-Odo/Ota</td>\n",
       "      <td>Ogun</td>\n",
       "      <td>25.0</td>\n",
       "    </tr>\n",
       "    <tr>\n",
       "      <th>24323</th>\n",
       "      <td>4</td>\n",
       "      <td>5</td>\n",
       "      <td>5</td>\n",
       "      <td>4</td>\n",
       "      <td>Detached Duplex</td>\n",
       "      <td>Lekki</td>\n",
       "      <td>Lagos</td>\n",
       "      <td>68.0</td>\n",
       "    </tr>\n",
       "    <tr>\n",
       "      <th>24324</th>\n",
       "      <td>3</td>\n",
       "      <td>4</td>\n",
       "      <td>4</td>\n",
       "      <td>3</td>\n",
       "      <td>Block of Flats</td>\n",
       "      <td>Victoria Island (VI)</td>\n",
       "      <td>Lagos</td>\n",
       "      <td>78.0</td>\n",
       "    </tr>\n",
       "    <tr>\n",
       "      <th>24325</th>\n",
       "      <td>4</td>\n",
       "      <td>5</td>\n",
       "      <td>5</td>\n",
       "      <td>4</td>\n",
       "      <td>Detached Duplex</td>\n",
       "      <td>Lekki</td>\n",
       "      <td>Lagos</td>\n",
       "      <td>65.0</td>\n",
       "    </tr>\n",
       "  </tbody>\n",
       "</table>\n",
       "<p>24326 rows × 8 columns</p>\n",
       "</div>"
      ],
      "text/plain": [
       "       bedrooms  bathrooms  toilets  parking_space                 title  \\\n",
       "0             6          5        5              4       Detached Duplex   \n",
       "1             4          5        5              4     Terraced Duplexes   \n",
       "2             4          5        5              4       Detached Duplex   \n",
       "3             4          4        5              6       Detached Duplex   \n",
       "4             4          4        5              2  Semi Detached Duplex   \n",
       "...         ...        ...      ...            ...                   ...   \n",
       "24321         2          2        2              4        Block of Flats   \n",
       "24322         4          5        5              4        Block of Flats   \n",
       "24323         4          5        5              4       Detached Duplex   \n",
       "24324         3          4        4              3        Block of Flats   \n",
       "24325         4          5        5              4       Detached Duplex   \n",
       "\n",
       "                       town  state  price_millions  \n",
       "0                   Mabushi  Abuja           450.0  \n",
       "1                   Katampe  Abuja           800.0  \n",
       "2                     Lekki  Lagos           120.0  \n",
       "3                      Ajah  Lagos            40.0  \n",
       "4                     Lekki  Lagos            75.0  \n",
       "...                     ...    ...             ...  \n",
       "24321                Kabusa  Abuja            15.0  \n",
       "24322           Ado-Odo/Ota   Ogun            25.0  \n",
       "24323                 Lekki  Lagos            68.0  \n",
       "24324  Victoria Island (VI)  Lagos            78.0  \n",
       "24325                 Lekki  Lagos            65.0  \n",
       "\n",
       "[24326 rows x 8 columns]"
      ]
     },
     "execution_count": 114,
     "metadata": {},
     "output_type": "execute_result"
    }
   ],
   "source": [
    "# just checking our initia Data Frame.\n",
    "nigeria_houses"
   ]
  },
  {
   "cell_type": "code",
   "execution_count": null,
   "id": "cc68afa1-19d0-4ab9-a4f2-5e46ba146c85",
   "metadata": {},
   "outputs": [],
   "source": []
  }
 ],
 "metadata": {
  "kernelspec": {
   "display_name": "Python 3 (ipykernel)",
   "language": "python",
   "name": "python3"
  },
  "language_info": {
   "codemirror_mode": {
    "name": "ipython",
    "version": 3
   },
   "file_extension": ".py",
   "mimetype": "text/x-python",
   "name": "python",
   "nbconvert_exporter": "python",
   "pygments_lexer": "ipython3",
   "version": "3.11.9"
  }
 },
 "nbformat": 4,
 "nbformat_minor": 5
}
