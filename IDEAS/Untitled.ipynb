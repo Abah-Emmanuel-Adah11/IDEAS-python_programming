{
 "cells": [
  {
   "cell_type": "code",
   "execution_count": 2,
   "id": "c508b612-f1ef-4710-84f5-c67c749546dc",
   "metadata": {},
   "outputs": [
    {
     "name": "stdout",
     "output_type": "stream",
     "text": [
      "hello world\n"
     ]
    }
   ],
   "source": [
    "print(\"hello world\")"
   ]
  },
  {
   "cell_type": "code",
   "execution_count": 3,
   "id": "789a787b-e032-447f-bd37-b974fd136f90",
   "metadata": {},
   "outputs": [
    {
     "name": "stdout",
     "output_type": "stream",
     "text": [
      "<class 'int'>\n"
     ]
    }
   ],
   "source": [
    "age = 25\n",
    "print(type(age))"
   ]
  },
  {
   "cell_type": "code",
   "execution_count": 4,
   "id": "00a543af-2e84-4b0b-8926-aa814b00d9a5",
   "metadata": {},
   "outputs": [
    {
     "name": "stdout",
     "output_type": "stream",
     "text": [
      "10\n"
     ]
    }
   ],
   "source": [
    "a = 5\n",
    "b = 5\n",
    "\n",
    "print(a+b);  "
   ]
  },
  {
   "cell_type": "code",
   "execution_count": 5,
   "id": "e8db0ce9-455f-44ce-9adf-b4e7047843c7",
   "metadata": {},
   "outputs": [
    {
     "name": "stdout",
     "output_type": "stream",
     "text": [
      "Welcome Back Emmanuel Abah\n"
     ]
    }
   ],
   "source": [
    "first_name = \"Emmanuel\"\n",
    "last_name = \"Abah\"\n",
    "\n",
    "print(\"Welcome Back\"+\" \"+first_name+\" \"+last_name)"
   ]
  },
  {
   "cell_type": "code",
   "execution_count": null,
   "id": "32592f69-b82e-4732-a792-ee328867e585",
   "metadata": {},
   "outputs": [],
   "source": []
  }
 ],
 "metadata": {
  "kernelspec": {
   "display_name": "Python 3 (ipykernel)",
   "language": "python",
   "name": "python3"
  },
  "language_info": {
   "codemirror_mode": {
    "name": "ipython",
    "version": 3
   },
   "file_extension": ".py",
   "mimetype": "text/x-python",
   "name": "python",
   "nbconvert_exporter": "python",
   "pygments_lexer": "ipython3",
   "version": "3.11.9"
  }
 },
 "nbformat": 4,
 "nbformat_minor": 5
}
