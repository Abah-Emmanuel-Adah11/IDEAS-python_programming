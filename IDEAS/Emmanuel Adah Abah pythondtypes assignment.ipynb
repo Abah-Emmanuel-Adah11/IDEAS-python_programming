{
 "cells": [
  {
   "cell_type": "markdown",
   "id": "8ebb70ce-bfc9-40ab-b59b-0b5f3a4ff9e1",
   "metadata": {},
   "source": [
    "### Favorite Items Collection"
   ]
  },
  {
   "cell_type": "code",
   "execution_count": 1,
   "id": "f4b3c057-da4a-4b01-815f-27742fdfb902",
   "metadata": {},
   "outputs": [
    {
     "name": "stdout",
     "output_type": "stream",
     "text": [
      "['Acrimony', 'Indignation', 'Land of Fury', '3 idiots', 'When they see us', 'Jobs', 'Social network']\n"
     ]
    }
   ],
   "source": [
    "# list of movies created\n",
    "\n",
    "movies = [\"Acrimony\", \"Indignation\", \"Land of Fury\", \"3 idiots\", \"When they see us\", \"Jobs\", \"Social network\"]\n",
    "print(movies)"
   ]
  },
  {
   "cell_type": "code",
   "execution_count": 6,
   "id": "4e3b066d-0905-43b1-9933-0860926d725a",
   "metadata": {},
   "outputs": [
    {
     "name": "stdout",
     "output_type": "stream",
     "text": [
      "{'Social network', 'Jobs', 'Indignation', 'When they see us', 'Acrimony', 'Land of Fury', '3 idiots'}\n"
     ]
    }
   ],
   "source": [
    "# converting the list of movies to a set of movies which will be stored in a varaible \"movies_set\"\n",
    "\n",
    "movies_set = set(movies)\n",
    "print (movies_set)"
   ]
  },
  {
   "cell_type": "code",
   "execution_count": 9,
   "id": "648a209c-bad4-4c10-a7b0-8e298b86d80c",
   "metadata": {},
   "outputs": [
    {
     "name": "stdout",
     "output_type": "stream",
     "text": [
      "{'Social network', 'Jobs', 'Indignation', 'When they see us', 'Acrimony', 'Land of Fury', '3 idiots'}\n"
     ]
    }
   ],
   "source": [
    "# Alternatively,\n",
    "\n",
    "movies_set0 = {*movies}\n",
    "print(movies_set0)"
   ]
  },
  {
   "cell_type": "code",
   "execution_count": 10,
   "id": "3200b636-82fd-4151-a78d-13f3c0c47a6e",
   "metadata": {},
   "outputs": [
    {
     "name": "stdout",
     "output_type": "stream",
     "text": [
      "{'Social network', 'My Eternal', 'Jobs', 'Indignation', 'When they see us', 'Acrimony', 'Land of Fury', '3 idiots'}\n"
     ]
    }
   ],
   "source": [
    "# Adding a new movie to the list\n",
    "\n",
    "movies_set.add(\"My Eternal\")\n",
    "print(movies_set)"
   ]
  },
  {
   "cell_type": "code",
   "execution_count": 11,
   "id": "a1daaee8-ea4d-46d4-948c-b360ee0df24f",
   "metadata": {},
   "outputs": [
    {
     "name": "stdout",
     "output_type": "stream",
     "text": [
      "{'Social network', 'My Eternal', 'Jobs', 'Indignation', 'When they see us', 'Acrimony', 'Land of Fury'}\n"
     ]
    }
   ],
   "source": [
    "# removing the movie \"3 idiots\" from the list\n",
    "\n",
    "movies_set.discard(\"3 idiots\")\n",
    "print(movies_set)"
   ]
  },
  {
   "cell_type": "raw",
   "id": "a81aeb41-8130-4890-b230-905ddc2555f2",
   "metadata": {},
   "source": []
  },
  {
   "cell_type": "markdown",
   "id": "009090d9-2907-4568-8bb7-64ac8a0e8bee",
   "metadata": {},
   "source": [
    "### Shopping List & Stock Check"
   ]
  },
  {
   "cell_type": "code",
   "execution_count": 13,
   "id": "5339de79-abc9-471f-b4d8-8001572ba6f1",
   "metadata": {},
   "outputs": [
    {
     "name": "stdout",
     "output_type": "stream",
     "text": [
      "{'Egg roll': 10, 'Meat pie': 15, 'Cookies': 20}\n"
     ]
    }
   ],
   "source": [
    "# creating a dictionary with items as string and values as int, representing stock availability\n",
    "\n",
    "stock_available = {\n",
    "    \"Egg roll\": 10,\n",
    "    \"Meat pie\": 15,\n",
    "    \"Cookies\": 20\n",
    "}\n",
    "\n",
    "print(stock_available)"
   ]
  },
  {
   "cell_type": "code",
   "execution_count": null,
   "id": "ea907aea-81f5-4b95-b434-debdda7596cb",
   "metadata": {},
   "outputs": [],
   "source": [
    "# making list of items to be purchased\n",
    "\n",
    "shopping_list = [\"Dougnut\", \"Egg row\"]\n",
    "\n",
    "# checking items that are avialable or not\n",
    "\n",
    "print(\"Dougnut\" in stock_available)\n",
    "print(\"Egg roll\" in stock_available)"
   ]
  },
  {
   "cell_type": "raw",
   "id": "dff20190-4e49-4afc-b1c5-ef8ac7531081",
   "metadata": {},
   "source": []
  },
  {
   "cell_type": "markdown",
   "id": "e04a18a7-e9cf-4354-819e-6773b4038e30",
   "metadata": {},
   "source": [
    "### Number Operation"
   ]
  },
  {
   "cell_type": "code",
   "execution_count": 31,
   "id": "91de4cdf-f190-4209-9a64-e143c9715303",
   "metadata": {},
   "outputs": [
    {
     "name": "stdout",
     "output_type": "stream",
     "text": [
      "[1, 2, 3, 4, 5, 6, 7, 8, 9, 10, 11, 12, 13, 14, 15, 16, 17, 18, 19, 20]\n"
     ]
    }
   ],
   "source": [
    "# Creating a list of numbers 1 - 20\n",
    "\n",
    "list_number = [1, 2, 3, 4, 5, 6, 7, 8, 9, 10, 11, 12, 13, 14, 15, 16, 17, 18, 19, 20]\n",
    "print(list_number)"
   ]
  },
  {
   "cell_type": "code",
   "execution_count": 32,
   "id": "7bbe76b9-0c32-4464-abbd-0981ca0454d9",
   "metadata": {},
   "outputs": [
    {
     "name": "stdout",
     "output_type": "stream",
     "text": [
      "[1, 2, 3, 4, 5, 6, 7, 8, 9, 11, 12, 13, 14, 15, 16, 17, 18, 19, 20]\n"
     ]
    }
   ],
   "source": [
    "# Removing the number 10 from the list\n",
    "\n",
    "list_number.remove(10)\n",
    "print(list_number)"
   ]
  },
  {
   "cell_type": "code",
   "execution_count": 37,
   "id": "75993349-67b8-41e5-9a98-6ee408b2adf5",
   "metadata": {},
   "outputs": [
    {
     "name": "stdout",
     "output_type": "stream",
     "text": [
      "[20, 19, 18, 17, 16, 15, 14, 13, 12, 11, 9, 8, 7, 6, 5, 4, 3, 2, 1]\n"
     ]
    }
   ],
   "source": [
    "# sorting list in decending order\n",
    "\n",
    "list_number.sort(reverse=True)\n",
    "print(list_number)"
   ]
  },
  {
   "cell_type": "code",
   "execution_count": 36,
   "id": "016b5573-aae9-4f03-93d7-945b41bc9f5a",
   "metadata": {},
   "outputs": [
    {
     "name": "stdout",
     "output_type": "stream",
     "text": [
      "[20, 19, 18, 17, 16, 15, 14, 13, 12, 11, 9, 8, 7, 6, 5, 4, 3, 2, 1]\n"
     ]
    }
   ],
   "source": [
    "# Alternatively,\n",
    "\n",
    "sorted_list = sorted(list_number, reverse=True)\n",
    "print(sorted_list)"
   ]
  },
  {
   "cell_type": "code",
   "execution_count": 42,
   "id": "89d26047-ba25-4a53-90d2-7b3ec16b3f15",
   "metadata": {},
   "outputs": [
    {
     "name": "stdout",
     "output_type": "stream",
     "text": [
      "{1, 2, 3, 4, 5, 6, 7, 8, 9, 11, 12, 13, 14, 15, 16, 17, 18, 19, 20}\n"
     ]
    }
   ],
   "source": [
    "# Using set operation to find insection between random set and list of random numbers converted to set\n",
    "\n",
    "random_set = {5, 10, 15, 20, 25}\n",
    "converted_set = set(list_number)\n",
    "print(converted_set)"
   ]
  },
  {
   "cell_type": "code",
   "execution_count": 43,
   "id": "3550e8f6-fe15-465c-9bc0-0d09a3357a60",
   "metadata": {},
   "outputs": [
    {
     "name": "stdout",
     "output_type": "stream",
     "text": [
      "{20, 5, 15}\n"
     ]
    }
   ],
   "source": [
    "# Finding the intersection between converted_set and random_set\n",
    "\n",
    "intersection = random_set & converted_set\n",
    "print(intersection)"
   ]
  },
  {
   "cell_type": "code",
   "execution_count": 44,
   "id": "a8b2c1a5-f97c-43ef-b344-0018f48f9482",
   "metadata": {},
   "outputs": [
    {
     "name": "stdout",
     "output_type": "stream",
     "text": [
      "{20, 5, 15}\n"
     ]
    }
   ],
   "source": [
    "#Alternatively,\n",
    "\n",
    "intersection0 = random_set.intersection(converted_set)\n",
    "print(intersection0)"
   ]
  },
  {
   "cell_type": "raw",
   "id": "707ef77c-af27-47fc-ba68-3f2ad919cca8",
   "metadata": {},
   "source": []
  },
  {
   "cell_type": "markdown",
   "id": "1496ed5f-2f64-4f82-943b-271016765f45",
   "metadata": {},
   "source": [
    "### Students Grade"
   ]
  },
  {
   "cell_type": "code",
   "execution_count": 62,
   "id": "bd55f114-2c1b-4673-91a6-89d1512715ea",
   "metadata": {},
   "outputs": [
    {
     "name": "stdout",
     "output_type": "stream",
     "text": [
      "{'John': [70, 90, 30], 'Paul': [60, 70, 70], 'Rebecca': [50, 90, 80]}\n"
     ]
    }
   ],
   "source": [
    "# creating a Dictionary where key are student names(str) and values are grades(int)\n",
    "\n",
    "class_grade = {\n",
    "    \"John\": [70, 90, 30],\n",
    "    \"Paul\": [60, 70, 70],\n",
    "    \"Rebecca\": [50,90, 80]\n",
    "}\n",
    "\n",
    "print(class_grade)\n"
   ]
  },
  {
   "cell_type": "code",
   "execution_count": 63,
   "id": "033dc7f6-02c2-4d5e-9597-766fdfe0b4fe",
   "metadata": {},
   "outputs": [
    {
     "name": "stdout",
     "output_type": "stream",
     "text": [
      "63.333333333333336\n",
      "66.66666666666667\n",
      "73.33333333333333\n"
     ]
    }
   ],
   "source": [
    "# calculating average grades for each students\n",
    "\n",
    "john_average = sum(class_grade[\"John\"]) / len(class_grade[\"John\"])\n",
    "print(john_average)\n",
    "\n",
    "paul_average = sum(class_grade[\"Paul\"]) / len(class_grade[\"Paul\"])\n",
    "print(paul_average)\n",
    "\n",
    "rebecca_average = sum(class_grade[\"Rebecca\"]) / len(class_grade[\"Rebecca\"])\n",
    "print(rebecca_average)\n",
    "                        \n"
   ]
  },
  {
   "cell_type": "code",
   "execution_count": 64,
   "id": "eb121b3e-fe47-46c6-a2ad-33e0a49d40a9",
   "metadata": {},
   "outputs": [
    {
     "name": "stdout",
     "output_type": "stream",
     "text": [
      "{'John': 63.333333333333336, 'Paul': 66.66666666666667, 'Rebecca': 73.33333333333333}\n"
     ]
    }
   ],
   "source": [
    "# Storing average grade in a new Dictionary\n",
    "\n",
    "Average_grades = {\n",
    "    \"John\": 63.333333333333336,\n",
    "    \"Paul\": 66.66666666666667,\n",
    "    \"Rebecca\": 73.33333333333333\n",
    "}\n",
    "\n",
    "print(Average_grades)\n"
   ]
  },
  {
   "cell_type": "code",
   "execution_count": 65,
   "id": "9dcca440-fc5e-402d-91e4-24b5ceb21925",
   "metadata": {},
   "outputs": [
    {
     "name": "stdout",
     "output_type": "stream",
     "text": [
      "John: 63.33\n",
      "Paul: 66.67\n",
      "Rebecca: 73.33\n"
     ]
    }
   ],
   "source": [
    "# Printing out each student name along with their average grade rounded to two decimal places\n",
    "\n",
    "for key, value in Average_grades.items():\n",
    "    print(f\"{key}: {round(value, 2)}\")"
   ]
  }
 ],
 "metadata": {
  "kernelspec": {
   "display_name": "Python 3 (ipykernel)",
   "language": "python",
   "name": "python3"
  },
  "language_info": {
   "codemirror_mode": {
    "name": "ipython",
    "version": 3
   },
   "file_extension": ".py",
   "mimetype": "text/x-python",
   "name": "python",
   "nbconvert_exporter": "python",
   "pygments_lexer": "ipython3",
   "version": "3.11.9"
  }
 },
 "nbformat": 4,
 "nbformat_minor": 5
}
